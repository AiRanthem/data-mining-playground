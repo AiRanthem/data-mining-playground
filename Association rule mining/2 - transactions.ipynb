{
 "nbformat": 4,
 "nbformat_minor": 2,
 "metadata": {
  "language_info": {
   "name": "python",
   "codemirror_mode": {
    "name": "ipython",
    "version": 3
   },
   "version": "3.7.6-final"
  },
  "orig_nbformat": 2,
  "file_extension": ".py",
  "mimetype": "text/x-python",
  "name": "python",
  "npconvert_exporter": "python",
  "pygments_lexer": "ipython3",
  "version": 3,
  "kernelspec": {
   "name": "python37364bitbasecondaaca5070ca1644e5190102fd019577a8c",
   "display_name": "Python 3.7.3 64-bit ('base': conda)"
  }
 },
 "cells": [
  {
   "cell_type": "code",
   "execution_count": 44,
   "metadata": {},
   "outputs": [],
   "source": [
    "import numpy as np\n",
    "import pandas as pd\n",
    "\n",
    "from libs.Apriori import apriori, generateRules\n",
    "from libs.fpgrowth import find_frequent_patterns, generate_association_rules"
   ]
  },
  {
   "cell_type": "markdown",
   "metadata": {},
   "source": [
    "# 实验目的\n",
    "1. 使用Apriori/FPtree中的函数，对数据进行关联规则挖掘，熟悉两种关联规则挖掘算法。\n",
    "2. 分析、比较Apriori/FPtree在实验中挖掘的性能与结果。分析不同参数设置对结果的影响。\n",
    "# 实验数据集\n",
    "## Kosarak.dat\n",
    "+ 用户浏览网页新闻的数据，每行数据代表一个用户浏览的新闻页面对应的ID；共99万左右的记录\n",
    "## Transactions.xls\n",
    "+ 交易数据集；每行数据代表一个用户购物（对20种食品）的交易记录；共计1万条记录,属于稀疏数据。\n",
    "# 实验过程\n",
    "## 2. 对Transactions.xls挖掘关联规则\n",
    "### 数据预处理\n",
    "+ xls文件处理困难，先用excel转换为csv文件然后再处理。\n",
    "+ 读取方法同上个数据集。"
   ],
   "execution_count": null,
   "outputs": []
  },
  {
   "cell_type": "code",
   "execution_count": 45,
   "metadata": {
    "tags": [
     "outputPrepend"
    ]
   },
   "outputs": [],
   "source": [
    "def preprocess(filename):\n",
    "    with open(filename) as f:\n",
    "        lines = f.read().splitlines()\n",
    "        all_data = [line.split(',') for line in lines]\n",
    "        products = all_data[0]\n",
    "        data = []\n",
    "        for d in all_data[1:]:\n",
    "            things = []\n",
    "            for i, buy in enumerate(d):\n",
    "                if buy == '1':\n",
    "                    things.append(products[i])\n",
    "            data.append(things)\n",
    "    return data"
   ]
  },
  {
   "cell_type": "code",
   "execution_count": 46,
   "metadata": {},
   "outputs": [],
   "source": [
    "# super params\n",
    "FILE = 'data/Transactions.csv'\n",
    "SUPPORT_THRESHOLD = 0.01\n",
    "CONFIDENCE_THRESHOLD = 0.5"
   ]
  },
  {
   "cell_type": "code",
   "execution_count": 47,
   "metadata": {},
   "outputs": [
    {
     "output_type": "stream",
     "name": "stdout",
     "text": "Wall time: 45 ms\n"
    }
   ],
   "source": [
    "%%time\n",
    "data = preprocess(FILE)"
   ]
  },
  {
   "cell_type": "code",
   "execution_count": 48,
   "metadata": {},
   "outputs": [],
   "source": [
    "NUM_DATA = int(len(data))\n",
    "SUPPORT_THRESHOLD_NUM = NUM_DATA * SUPPORT_THRESHOLD"
   ]
  },
  {
   "cell_type": "markdown",
   "metadata": {},
   "source": [
    "### 使用apriori算法挖掘关联规则"
   ],
   "execution_count": null,
   "outputs": []
  },
  {
   "cell_type": "code",
   "execution_count": 49,
   "metadata": {},
   "outputs": [
    {
     "output_type": "stream",
     "name": "stdout",
     "text": "frozenset({'yoghurt'}) --> frozenset({'milk'}) conf: 0.5197421434327155\nfrozenset({'brioches'}) --> frozenset({'milk'}) conf: 0.5037650602409639\nfrozenset({'tomato souce'}) --> frozenset({'milk'}) conf: 0.5308285163776494\nfrozenset({'tomato souce'}) --> frozenset({'pasta'}) conf: 0.5539499036608864\nfrozenset({'juices'}) --> frozenset({'milk'}) conf: 0.6123076923076923\nfrozenset({'biscuits'}) --> frozenset({'milk'}) conf: 0.5174102285092492\nWall time: 414 ms\n"
    }
   ],
   "source": [
    "%%time\n",
    "# use apriori\n",
    "L, supportData = apriori(data, SUPPORT_THRESHOLD)\n",
    "apriori_rules = generateRules(L, supportData, CONFIDENCE_THRESHOLD)\n",
    ""
   ]
  },
  {
   "cell_type": "code",
   "execution_count": 50,
   "metadata": {},
   "outputs": [
    {
     "output_type": "stream",
     "name": "stdout",
     "text": "['yoghurt']  -->  ['milk'] ; conf = 0.5197421434327155 ; support = 0.124\n['brioches']  -->  ['milk'] ; conf = 0.5037650602409639 ; support = 0.133\n['tomato souce']  -->  ['milk'] ; conf = 0.5308285163776494 ; support = 0.104\n['tomato souce']  -->  ['pasta'] ; conf = 0.5539499036608864 ; support = 0.104\n['juices']  -->  ['milk'] ; conf = 0.6123076923076923 ; support = 0.065\n['biscuits']  -->  ['milk'] ; conf = 0.5174102285092492 ; support = 0.184\n"
    }
   ],
   "source": [
    "# output\n",
    "for cause, effect, conf in apriori_rules:\n",
    "    print(list(cause), ' --> ', list(effect), '; conf =', conf, '; support = {:.3f}'.format(supportData[cause]))"
   ]
  },
  {
   "cell_type": "markdown",
   "metadata": {},
   "source": [
    "### 使用fpgrowth算法挖掘关联规则"
   ],
   "execution_count": null,
   "outputs": []
  },
  {
   "cell_type": "code",
   "execution_count": 51,
   "metadata": {},
   "outputs": [
    {
     "output_type": "stream",
     "name": "stdout",
     "text": "Wall time: 167 ms\n"
    }
   ],
   "source": [
    "%%time\n",
    "patterns = find_frequent_patterns(data, SUPPORT_THRESHOLD_NUM)\n",
    "rules = generate_association_rules(patterns, CONFIDENCE_THRESHOLD)"
   ]
  },
  {
   "cell_type": "code",
   "execution_count": 52,
   "metadata": {},
   "outputs": [
    {
     "output_type": "stream",
     "name": "stdout",
     "text": "['biscuits', 'juices']  -->  ['milk'] ; conf = 0.6491228070175439 ; support = 0.017\n['brioches', 'juices']  -->  ['milk'] ; conf = 0.6549707602339181 ; support = 0.017\n['juices', 'water']  -->  ['milk'] ; conf = 0.7009803921568627 ; support = 0.020\n['juices', 'pasta']  -->  ['milk'] ; conf = 0.689922480620155 ; support = 0.026\n['rice', 'water']  -->  ['pasta'] ; conf = 0.6 ; support = 0.017\n['milk', 'rice']  -->  ['pasta'] ; conf = 0.5493421052631579 ; support = 0.030\n['beer', 'pasta']  -->  ['milk'] ; conf = 0.5555555555555556 ; support = 0.031\n['coke', 'tomato souce']  -->  ['pasta'] ; conf = 0.6538461538461539 ; support = 0.016\n['biscuits', 'coke']  -->  ['milk'] ; conf = 0.5531914893617021 ; support = 0.019\n['coke', 'pasta']  -->  ['milk'] ; conf = 0.5213032581453634 ; support = 0.040\n['tomato souce', 'yoghurt']  -->  ['milk'] ; conf = 0.6578947368421053 ; support = 0.015\n['milk', 'tomato souce', 'water']  -->  ['pasta'] ; conf = 0.6829268292682927 ; support = 0.021\n['pasta', 'tomato souce', 'water']  -->  ['milk'] ; conf = 0.6572769953051644 ; support = 0.021\n['milk', 'tomato souce']  -->  ['pasta'] ; conf = 0.588021778584392 ; support = 0.055\n['pasta', 'tomato souce']  -->  ['milk'] ; conf = 0.5634782608695652 ; support = 0.058\n['frozen vegetables', 'pasta']  -->  ['milk'] ; conf = 0.5340909090909091 ; support = 0.044\n['coffee', 'yoghurt']  -->  ['milk'] ; conf = 0.6082474226804123 ; support = 0.019\n['milk', 'water', 'yoghurt']  -->  ['pasta'] ; conf = 0.5531914893617021 ; support = 0.019\n['pasta', 'water', 'yoghurt']  -->  ['milk'] ; conf = 0.6887417218543046 ; support = 0.015\n['pasta', 'yoghurt']  -->  ['milk'] ; conf = 0.5831485587583148 ; support = 0.045\n['brioches', 'pasta', 'water']  -->  ['milk'] ; conf = 0.6385542168674698 ; support = 0.017\n['biscuits', 'brioches', 'milk']  -->  ['pasta'] ; conf = 0.5023041474654378 ; support = 0.022\n['biscuits', 'brioches', 'pasta']  -->  ['milk'] ; conf = 0.6055555555555555 ; support = 0.018\n['brioches', 'pasta']  -->  ['milk'] ; conf = 0.5588235294117647 ; support = 0.054\n['coffee', 'pasta', 'water']  -->  ['milk'] ; conf = 0.639344262295082 ; support = 0.018\n['coffee', 'pasta']  -->  ['milk'] ; conf = 0.5524956970740104 ; support = 0.058\n['biscuits', 'milk', 'water']  -->  ['pasta'] ; conf = 0.5133333333333333 ; support = 0.030\n['biscuits', 'pasta', 'water']  -->  ['milk'] ; conf = 0.6875 ; support = 0.022\n['biscuits', 'pasta']  -->  ['milk'] ; conf = 0.5802292263610315 ; support = 0.070\n['pasta', 'water']  -->  ['milk'] ; conf = 0.5781083953241233 ; support = 0.094\n"
    }
   ],
   "source": [
    "# output\n",
    "for cause, (effect, conf) in rules.items():\n",
    "    # print(i, ' --> ', rules[i])\n",
    "    print(list(cause), ' --> ', list(effect), '; conf =', conf, '; support = {:.3f}'.format(patterns[cause]/NUM_DATA))"
   ]
  },
  {
   "cell_type": "code",
   "execution_count": 53,
   "metadata": {},
   "outputs": [
    {
     "output_type": "stream",
     "name": "stdout",
     "text": "{('mozzarella',): 163, ('oil', 'pasta'): 141, ('milk', 'oil'): 151, ('frozen fish', 'pasta'): 132, ('frozen fish', 'milk'): 147, ('crackers', 'pasta'): 142, ('crackers', 'milk'): 161, ('juices', 'tunny'): 102, ('coke', 'juices'): 116, ('coffee', 'juices'): 124, ('juices', 'yoghurt'): 147, ('biscuits', 'juices'): 171, ('biscuits', 'juices', 'milk'): 111, ('brioches', 'juices'): 171, ('brioches', 'juices', 'milk'): 112, ('juices', 'water'): 204, ('juices', 'milk', 'water'): 143, ('juices', 'pasta'): 258, ('juices', 'milk', 'pasta'): 178, ('juices', 'milk'): 398, ('coffee', 'rice'): 119, ('biscuits', 'rice'): 155, ('rice', 'water'): 170, ('pasta', 'rice', 'water'): 102, ('milk', 'rice'): 304, ('milk', 'pasta', 'rice'): 167, ('pasta', 'rice'): 335, ('beer', 'brioches'): 122, ('beer', 'coffee'): 126, ('beer', 'biscuits'): 141, ('beer', 'coke'): 174, ('beer', 'pasta', 'water'): 120, ('beer', 'milk', 'water'): 153, ('beer', 'pasta'): 306, ('beer', 'milk', 'pasta'): 170, ('beer', 'milk'): 365, ('coke', 'tunny'): 101, ('coke', 'frozen vegetables'): 115, ('coke', 'yoghurt'): 118, ('coffee', 'coke'): 153, ('coke', 'tomato souce'): 156, ('coke', 'pasta', 'tomato souce'): 102, ('biscuits', 'coke'): 188, ('biscuits', 'coke', 'milk'): 104, ('brioches', 'coke', 'pasta'): 103, ('brioches', 'coke', 'milk'): 120, ('coke', 'pasta', 'water'): 159, ('coke', 'milk', 'water'): 167, ('coke', 'pasta'): 399, ('coke', 'milk', 'pasta'): 208, ('coke', 'milk'): 452, ('frozen vegetables', 'tunny'): 121, ('tomato souce', 'tunny'): 135, ('tunny', 'yoghurt'): 138, ('brioches', 'milk', 'tunny'): 100, ('brioches', 'pasta', 'tunny'): 102, ('coffee', 'milk', 'tunny'): 107, ('coffee', 'pasta', 'tunny'): 109, ('biscuits', 'pasta', 'tunny'): 130, ('biscuits', 'milk', 'tunny'): 138, ('pasta', 'tunny', 'water'): 120, ('milk', 'tunny', 'water'): 137, ('pasta', 'tunny'): 464, ('milk', 'pasta', 'tunny'): 230, ('milk', 'tunny'): 466, ('frozen vegetables', 'tomato souce'): 141, ('tomato souce', 'yoghurt'): 152, ('milk', 'tomato souce', 'yoghurt'): 100, ('brioches', 'milk', 'tomato souce'): 113, ('brioches', 'pasta', 'tomato souce'): 116, ('coffee', 'milk', 'tomato souce'): 125, ('coffee', 'pasta', 'tomato souce'): 136, ('biscuits', 'milk', 'tomato souce'): 128, ('biscuits', 'pasta', 'tomato souce'): 140, ('milk', 'tomato souce', 'water'): 205, ('milk', 'pasta', 'tomato souce', 'water'): 140, ('pasta', 'tomato souce', 'water'): 213, ('milk', 'tomato souce'): 551, ('milk', 'pasta', 'tomato souce'): 324, ('pasta', 'tomato souce'): 575, ('frozen vegetables', 'yoghurt'): 137, ('coffee', 'frozen vegetables'): 173, ('brioches', 'frozen vegetables', 'milk'): 104, ('brioches', 'frozen vegetables', 'pasta'): 107, ('biscuits', 'frozen vegetables', 'pasta'): 119, ('biscuits', 'frozen vegetables', 'milk'): 129, ('frozen vegetables', 'pasta', 'water'): 131, ('frozen vegetables', 'milk', 'water'): 151, ('frozen vegetables', 'pasta'): 440, ('frozen vegetables', 'milk', 'pasta'): 235, ('frozen vegetables', 'milk'): 488, ('coffee', 'yoghurt'): 194, ('coffee', 'milk', 'yoghurt'): 118, ('brioches', 'pasta', 'yoghurt'): 110, ('brioches', 'milk', 'yoghurt'): 130, ('biscuits', 'pasta', 'yoghurt'): 132, ('biscuits', 'milk', 'yoghurt'): 165, ('pasta', 'water', 'yoghurt'): 151, ('milk', 'pasta', 'water', 'yoghurt'): 104, ('milk', 'water', 'yoghurt'): 188, ('pasta', 'yoghurt'): 451, ('milk', 'pasta', 'yoghurt'): 263, ('milk', 'yoghurt'): 645, ('brioches', 'coffee', 'pasta'): 113, ('brioches', 'coffee', 'milk'): 133, ('biscuits', 'brioches', 'water'): 129, ('brioches', 'pasta', 'water'): 166, ('brioches', 'milk', 'pasta', 'water'): 106, ('brioches', 'milk', 'water'): 229, ('biscuits', 'brioches', 'pasta'): 180, ('biscuits', 'brioches', 'milk', 'pasta'): 109, ('biscuits', 'brioches', 'milk'): 217, ('brioches', 'pasta'): 544, ('brioches', 'milk', 'pasta'): 304, ('brioches', 'milk'): 669, ('biscuits', 'coffee', 'water'): 101, ('biscuits', 'coffee', 'pasta'): 153, ('biscuits', 'coffee', 'milk'): 202, ('coffee', 'pasta', 'water'): 183, ('coffee', 'milk', 'pasta', 'water'): 117, ('coffee', 'milk', 'water'): 237, ('coffee', 'pasta'): 581, ('coffee', 'milk', 'pasta'): 321, ('coffee', 'milk'): 715, ('biscuits', 'pasta', 'water'): 224, ('biscuits', 'milk', 'pasta', 'water'): 154, ('biscuits', 'milk', 'water'): 300, ('biscuits', 'pasta'): 698, ('biscuits', 'milk', 'pasta'): 405, ('biscuits', 'milk'): 951, ('pasta', 'water'): 941, ('milk', 'pasta', 'water'): 544, ('milk', 'water'): 1246, ('pasta',): 3719, ('milk', 'pasta'): 1692, ('milk',): 4740}\n"
    }
   ],
   "source": [
    "print(patterns)"
   ]
  },
  {
   "cell_type": "markdown",
   "metadata": {},
   "source": [
    "# 小结\n",
    "Transactions的数据集量级明显比kosarak要小。即使是在这么小的数据集上，fpgrowth算法依然具有平均四倍于apriori的性能。\n",
    "最早我使用了默认的Support threshold=0.01和Confidence threshold=0.7的默认值，结果一条规则都没有发现。多次调参（炼丹），得到了当前的超参数，应该是比较好的结果：既具有比较高的测度，也有比较大的输出量。"
   ]
  }
 ]
}