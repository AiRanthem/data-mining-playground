{
 "nbformat": 4,
 "nbformat_minor": 2,
 "metadata": {
  "language_info": {
   "name": "python",
   "codemirror_mode": {
    "name": "ipython",
    "version": 3
   },
   "version": "3.7.6-final"
  },
  "orig_nbformat": 2,
  "file_extension": ".py",
  "mimetype": "text/x-python",
  "name": "python",
  "npconvert_exporter": "python",
  "pygments_lexer": "ipython3",
  "version": 3,
  "kernelspec": {
   "name": "python37364bitbasecondaaca5070ca1644e5190102fd019577a8c",
   "display_name": "Python 3.7.3 64-bit ('base': conda)"
  }
 },
 "cells": [
  {
   "cell_type": "code",
   "execution_count": 13,
   "metadata": {},
   "outputs": [],
   "source": [
    "import numpy as np\n",
    "import pandas as pd\n",
    "\n",
    "from libs import Apriori, Eclat, FPgrowth"
   ]
  },
  {
   "cell_type": "markdown",
   "metadata": {},
   "source": [
    "# 实验目的\n",
    "1. 使用Apriori/FPtree中的函数，对数据进行关联规则挖掘，熟悉两种关联规则挖掘算法。\n",
    "2. 分析、比较Apriori/FPtree在实验中挖掘的性能与结果。分析不同参数设置对结果的影响。\n",
    "# 实验数据集\n",
    "## Kosarak.dat\n",
    "+ 用户浏览网页新闻的数据，每行数据代表一个用户浏览的新闻页面对应的ID；共99万左右的记录\n",
    "## Transactions.xls\n",
    "+ 交易数据集；每行数据代表一个用户购物（对20种食品）的交易记录；共计1万条记录,属于稀疏数据。\n"
   ]
  },
  {
   "cell_type": "code",
   "execution_count": null,
   "metadata": {},
   "outputs": [],
   "source": []
  },
  {
   "cell_type": "markdown",
   "metadata": {},
   "source": [
    "# 实验报告\n",
    "实验完成后要求提交实验报告与相应的实验结果\n",
    "将实验报告和相关实验结果打包上传至服务器上相关目录下：\n",
    ">    /上传作业/刘昆宏/数据挖掘/实验3/\n",
    "\n",
    "实验报告请在实验完成后的第一个双周周日结束前上传"
   ]
  }
 ]
}