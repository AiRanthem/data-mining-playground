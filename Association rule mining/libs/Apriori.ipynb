{
 "cells": [
  {
   "cell_type": "code",
   "execution_count": 1,
   "metadata": {
    "scrolled": true
   },
   "outputs": [],
   "source": [
    "from Apriori import *"
   ]
  },
  {
   "cell_type": "code",
   "execution_count": 2,
   "metadata": {},
   "outputs": [],
   "source": [
    "def loadDataSet():\n",
    "    return [[1, 3, 4], [2, 3, 5], [1, 2, 3, 5], [2, 5]]"
   ]
  },
  {
   "cell_type": "code",
   "execution_count": 3,
   "metadata": {},
   "outputs": [
    {
     "output_type": "execute_result",
     "data": {
      "text/plain": "[[1, 3, 4], [2, 3, 5], [1, 2, 3, 5], [2, 5]]"
     },
     "metadata": {},
     "execution_count": 3
    }
   ],
   "source": [
    "dataSet = loadDataSet()\n",
    "dataSet"
   ]
  },
  {
   "cell_type": "code",
   "execution_count": 4,
   "metadata": {},
   "outputs": [
    {
     "output_type": "execute_result",
     "data": {
      "text/plain": "[frozenset({1}),\n frozenset({2}),\n frozenset({3}),\n frozenset({4}),\n frozenset({5})]"
     },
     "metadata": {},
     "execution_count": 4
    }
   ],
   "source": [
    "C1 = createC1(dataSet)\n",
    "C1"
   ]
  },
  {
   "cell_type": "code",
   "execution_count": 5,
   "metadata": {},
   "outputs": [
    {
     "output_type": "execute_result",
     "data": {
      "text/plain": "[{1, 3, 4}, {2, 3, 5}, {1, 2, 3, 5}, {2, 5}]"
     },
     "metadata": {},
     "execution_count": 5
    }
   ],
   "source": [
    "#D is a dataset in the setform.\n",
    "\n",
    "D = list(map(set,dataSet))\n",
    "D"
   ]
  },
  {
   "cell_type": "markdown",
   "metadata": {},
   "source": [
    "Now that you have everything in set form, you can remove items that don’t meet our minimum support."
   ],
   "execution_count": null,
   "outputs": []
  },
  {
   "cell_type": "code",
   "execution_count": 6,
   "metadata": {},
   "outputs": [
    {
     "output_type": "execute_result",
     "data": {
      "text/plain": "[frozenset({5}), frozenset({2}), frozenset({3}), frozenset({1})]"
     },
     "metadata": {},
     "execution_count": 6
    }
   ],
   "source": [
    "L1,suppDat0 = scanD(D,C1,0.5)\n",
    "L1"
   ]
  },
  {
   "cell_type": "code",
   "execution_count": 7,
   "metadata": {},
   "outputs": [
    {
     "output_type": "stream",
     "name": "stdout",
     "text": "frozenset({5}) --> frozenset({2}) conf: 1.0\nfrozenset({2}) --> frozenset({5}) conf: 1.0\nfrozenset({1}) --> frozenset({3}) conf: 1.0\n"
    }
   ],
   "source": [
    "L,suppData= apriori(dataSet,minSupport=0.5)\n",
    "rules= generateRules(L,suppData, minConf=0.7)"
   ]
  },
  {
   "cell_type": "code",
   "execution_count": 8,
   "metadata": {},
   "outputs": [
    {
     "output_type": "execute_result",
     "data": {
      "text/plain": "[[frozenset({5}), frozenset({2}), frozenset({3}), frozenset({1})],\n [frozenset({2, 3}), frozenset({3, 5}), frozenset({2, 5}), frozenset({1, 3})],\n [frozenset({2, 3, 5})],\n []]"
     },
     "metadata": {},
     "execution_count": 8
    }
   ],
   "source": [
    "L"
   ]
  },
  {
   "cell_type": "code",
   "execution_count": 12,
   "metadata": {},
   "outputs": [
    {
     "output_type": "execute_result",
     "data": {
      "text/plain": "(frozenset({5}), frozenset({2}))"
     },
     "metadata": {},
     "execution_count": 12
    }
   ],
   "source": [
    "rules[0][:2]"
   ]
  }
 ],
 "metadata": {
  "kernelspec": {
   "display_name": "Python 3.7.3 64-bit ('base': conda)",
   "language": "python",
   "name": "python37364bitbasecondaaca5070ca1644e5190102fd019577a8c"
  },
  "language_info": {
   "codemirror_mode": {
    "name": "ipython",
    "version": 3
   },
   "file_extension": ".py",
   "mimetype": "text/x-python",
   "name": "python",
   "nbconvert_exporter": "python",
   "pygments_lexer": "ipython3",
   "version": "3.7.6-final"
  }
 },
 "nbformat": 4,
 "nbformat_minor": 2
}