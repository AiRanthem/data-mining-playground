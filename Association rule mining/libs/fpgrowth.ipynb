{
 "cells": [
  {
   "cell_type": "code",
   "execution_count": 1,
   "metadata": {},
   "outputs": [],
   "source": [
    "import pandas as pd\n",
    "import numpy as np\n",
    "import timeit"
   ]
  },
  {
   "cell_type": "code",
   "execution_count": 2,
   "metadata": {},
   "outputs": [
    {
     "output_type": "execute_result",
     "data": {
      "text/plain": "              0          1           2                 3             4   \\\n0         shrimp    almonds     avocado    vegetables mix  green grapes   \n1        burgers  meatballs        eggs               NaN           NaN   \n2        chutney        NaN         NaN               NaN           NaN   \n3         turkey    avocado         NaN               NaN           NaN   \n4  mineral water       milk  energy bar  whole wheat rice     green tea   \n\n                 5     6               7             8             9   \\\n0  whole weat flour  yams  cottage cheese  energy drink  tomato juice   \n1               NaN   NaN             NaN           NaN           NaN   \n2               NaN   NaN             NaN           NaN           NaN   \n3               NaN   NaN             NaN           NaN           NaN   \n4               NaN   NaN             NaN           NaN           NaN   \n\n               10         11     12     13             14      15  \\\n0  low fat yogurt  green tea  honey  salad  mineral water  salmon   \n1             NaN        NaN    NaN    NaN            NaN     NaN   \n2             NaN        NaN    NaN    NaN            NaN     NaN   \n3             NaN        NaN    NaN    NaN            NaN     NaN   \n4             NaN        NaN    NaN    NaN            NaN     NaN   \n\n                  16               17       18         19  \n0  antioxydant juice  frozen smoothie  spinach  olive oil  \n1                NaN              NaN      NaN        NaN  \n2                NaN              NaN      NaN        NaN  \n3                NaN              NaN      NaN        NaN  \n4                NaN              NaN      NaN        NaN  ",
      "text/html": "<div>\n<style scoped>\n    .dataframe tbody tr th:only-of-type {\n        vertical-align: middle;\n    }\n\n    .dataframe tbody tr th {\n        vertical-align: top;\n    }\n\n    .dataframe thead th {\n        text-align: right;\n    }\n</style>\n<table border=\"1\" class=\"dataframe\">\n  <thead>\n    <tr style=\"text-align: right;\">\n      <th></th>\n      <th>0</th>\n      <th>1</th>\n      <th>2</th>\n      <th>3</th>\n      <th>4</th>\n      <th>5</th>\n      <th>6</th>\n      <th>7</th>\n      <th>8</th>\n      <th>9</th>\n      <th>10</th>\n      <th>11</th>\n      <th>12</th>\n      <th>13</th>\n      <th>14</th>\n      <th>15</th>\n      <th>16</th>\n      <th>17</th>\n      <th>18</th>\n      <th>19</th>\n    </tr>\n  </thead>\n  <tbody>\n    <tr>\n      <th>0</th>\n      <td>shrimp</td>\n      <td>almonds</td>\n      <td>avocado</td>\n      <td>vegetables mix</td>\n      <td>green grapes</td>\n      <td>whole weat flour</td>\n      <td>yams</td>\n      <td>cottage cheese</td>\n      <td>energy drink</td>\n      <td>tomato juice</td>\n      <td>low fat yogurt</td>\n      <td>green tea</td>\n      <td>honey</td>\n      <td>salad</td>\n      <td>mineral water</td>\n      <td>salmon</td>\n      <td>antioxydant juice</td>\n      <td>frozen smoothie</td>\n      <td>spinach</td>\n      <td>olive oil</td>\n    </tr>\n    <tr>\n      <th>1</th>\n      <td>burgers</td>\n      <td>meatballs</td>\n      <td>eggs</td>\n      <td>NaN</td>\n      <td>NaN</td>\n      <td>NaN</td>\n      <td>NaN</td>\n      <td>NaN</td>\n      <td>NaN</td>\n      <td>NaN</td>\n      <td>NaN</td>\n      <td>NaN</td>\n      <td>NaN</td>\n      <td>NaN</td>\n      <td>NaN</td>\n      <td>NaN</td>\n      <td>NaN</td>\n      <td>NaN</td>\n      <td>NaN</td>\n      <td>NaN</td>\n    </tr>\n    <tr>\n      <th>2</th>\n      <td>chutney</td>\n      <td>NaN</td>\n      <td>NaN</td>\n      <td>NaN</td>\n      <td>NaN</td>\n      <td>NaN</td>\n      <td>NaN</td>\n      <td>NaN</td>\n      <td>NaN</td>\n      <td>NaN</td>\n      <td>NaN</td>\n      <td>NaN</td>\n      <td>NaN</td>\n      <td>NaN</td>\n      <td>NaN</td>\n      <td>NaN</td>\n      <td>NaN</td>\n      <td>NaN</td>\n      <td>NaN</td>\n      <td>NaN</td>\n    </tr>\n    <tr>\n      <th>3</th>\n      <td>turkey</td>\n      <td>avocado</td>\n      <td>NaN</td>\n      <td>NaN</td>\n      <td>NaN</td>\n      <td>NaN</td>\n      <td>NaN</td>\n      <td>NaN</td>\n      <td>NaN</td>\n      <td>NaN</td>\n      <td>NaN</td>\n      <td>NaN</td>\n      <td>NaN</td>\n      <td>NaN</td>\n      <td>NaN</td>\n      <td>NaN</td>\n      <td>NaN</td>\n      <td>NaN</td>\n      <td>NaN</td>\n      <td>NaN</td>\n    </tr>\n    <tr>\n      <th>4</th>\n      <td>mineral water</td>\n      <td>milk</td>\n      <td>energy bar</td>\n      <td>whole wheat rice</td>\n      <td>green tea</td>\n      <td>NaN</td>\n      <td>NaN</td>\n      <td>NaN</td>\n      <td>NaN</td>\n      <td>NaN</td>\n      <td>NaN</td>\n      <td>NaN</td>\n      <td>NaN</td>\n      <td>NaN</td>\n      <td>NaN</td>\n      <td>NaN</td>\n      <td>NaN</td>\n      <td>NaN</td>\n      <td>NaN</td>\n      <td>NaN</td>\n    </tr>\n  </tbody>\n</table>\n</div>"
     },
     "metadata": {},
     "execution_count": 2
    }
   ],
   "source": [
    "df = pd.read_csv('Market_Basket_Optimisation.csv', header = None)\n",
    "df.head()"
   ]
  },
  {
   "cell_type": "code",
   "execution_count": 3,
   "metadata": {},
   "outputs": [
    {
     "output_type": "stream",
     "name": "stdout",
     "text": "<class 'pandas.core.frame.DataFrame'>\nRangeIndex: 7501 entries, 0 to 7500\nData columns (total 20 columns):\n #   Column  Non-Null Count  Dtype \n---  ------  --------------  ----- \n 0   0       7501 non-null   object\n 1   1       5747 non-null   object\n 2   2       4389 non-null   object\n 3   3       3345 non-null   object\n 4   4       2529 non-null   object\n 5   5       1864 non-null   object\n 6   6       1369 non-null   object\n 7   7       981 non-null    object\n 8   8       654 non-null    object\n 9   9       395 non-null    object\n 10  10      256 non-null    object\n 11  11      154 non-null    object\n 12  12      87 non-null     object\n 13  13      47 non-null     object\n 14  14      25 non-null     object\n 15  15      8 non-null      object\n 16  16      4 non-null      object\n 17  17      4 non-null      object\n 18  18      3 non-null      object\n 19  19      1 non-null      object\ndtypes: object(20)\nmemory usage: 1.1+ MB\n"
    }
   ],
   "source": [
    "df.info()"
   ]
  },
  {
   "cell_type": "code",
   "execution_count": 4,
   "metadata": {},
   "outputs": [],
   "source": [
    "allTransection = []\n",
    "datalen = len(df)\n",
    "totalCol = len(df.columns)"
   ]
  },
  {
   "cell_type": "code",
   "execution_count": 5,
   "metadata": {},
   "outputs": [
    {
     "output_type": "execute_result",
     "data": {
      "text/plain": "20"
     },
     "metadata": {},
     "execution_count": 5
    }
   ],
   "source": [
    "totalCol"
   ]
  },
  {
   "cell_type": "code",
   "execution_count": 6,
   "metadata": {},
   "outputs": [],
   "source": [
    "# making basket\n",
    "# -------------"
   ]
  },
  {
   "cell_type": "code",
   "execution_count": 7,
   "metadata": {},
   "outputs": [],
   "source": [
    "for i in range(0, datalen):\n",
    "    allTransection.append([str(df.values[i, j]) for j in range(0, totalCol)])"
   ]
  },
  {
   "cell_type": "code",
   "execution_count": 9,
   "metadata": {},
   "outputs": [
    {
     "output_type": "execute_result",
     "data": {
      "text/plain": "[['shrimp',\n  'almonds',\n  'avocado',\n  'vegetables mix',\n  'green grapes',\n  'whole weat flour',\n  'yams',\n  'cottage cheese',\n  'energy drink',\n  'tomato juice',\n  'low fat yogurt',\n  'green tea',\n  'honey',\n  'salad',\n  'mineral water',\n  'salmon',\n  'antioxydant juice',\n  'frozen smoothie',\n  'spinach',\n  'olive oil'],\n ['burgers',\n  'meatballs',\n  'eggs',\n  'nan',\n  'nan',\n  'nan',\n  'nan',\n  'nan',\n  'nan',\n  'nan',\n  'nan',\n  'nan',\n  'nan',\n  'nan',\n  'nan',\n  'nan',\n  'nan',\n  'nan',\n  'nan',\n  'nan'],\n ['chutney',\n  'nan',\n  'nan',\n  'nan',\n  'nan',\n  'nan',\n  'nan',\n  'nan',\n  'nan',\n  'nan',\n  'nan',\n  'nan',\n  'nan',\n  'nan',\n  'nan',\n  'nan',\n  'nan',\n  'nan',\n  'nan',\n  'nan'],\n ['turkey',\n  'avocado',\n  'nan',\n  'nan',\n  'nan',\n  'nan',\n  'nan',\n  'nan',\n  'nan',\n  'nan',\n  'nan',\n  'nan',\n  'nan',\n  'nan',\n  'nan',\n  'nan',\n  'nan',\n  'nan',\n  'nan',\n  'nan']]"
     },
     "metadata": {},
     "execution_count": 9
    }
   ],
   "source": [
    "allTransection[:4]"
   ]
  },
  {
   "cell_type": "code",
   "execution_count": 11,
   "metadata": {},
   "outputs": [],
   "source": [
    "import fpgrowth as pfp"
   ]
  },
  {
   "cell_type": "code",
   "execution_count": 12,
   "metadata": {},
   "outputs": [
    {
     "output_type": "stream",
     "name": "stdout",
     "text": "Wall time: 19.1 s\n"
    }
   ],
   "source": [
    "%%time\n",
    "pattern = pfp.find_frequent_patterns( allTransection, 5 )\n",
    "rules   = pfp.generate_association_rules( pattern, 0.8 ) "
   ]
  },
  {
   "cell_type": "code",
   "execution_count": 13,
   "metadata": {},
   "outputs": [
    {
     "output_type": "execute_result",
     "data": {
      "text/plain": "28750"
     },
     "metadata": {},
     "execution_count": 13
    }
   ],
   "source": [
    "len(pattern)"
   ]
  },
  {
   "cell_type": "code",
   "execution_count": 15,
   "metadata": {},
   "outputs": [
    {
     "output_type": "execute_result",
     "data": {
      "text/plain": "14676"
     },
     "metadata": {},
     "execution_count": 15
    }
   ],
   "source": [
    "len(rules)"
   ]
  },
  {
   "cell_type": "code",
   "execution_count": 18,
   "metadata": {
    "tags": [
     "outputPrepend",
     "outputPrepend",
     "outputPrepend",
     "outputPrepend",
     "outputPrepend",
     "outputPrepend",
     "outputPrepend",
     "outputPrepend",
     "outputPrepend",
     "outputPrepend",
     "outputPrepend",
     "outputPrepend",
     "outputPrepend",
     "outputPrepend",
     "outputPrepend",
     "outputPrepend",
     "outputPrepend",
     "outputPrepend",
     "outputPrepend",
     "outputPrepend",
     "outputPrepend",
     "outputPrepend",
     "outputPrepend",
     "outputPrepend",
     "outputPrepend",
     "outputPrepend",
     "outputPrepend",
     "outputPrepend",
     "outputPrepend",
     "outputPrepend",
     "outputPrepend",
     "outputPrepend",
     "outputPrepend",
     "outputPrepend",
     "outputPrepend",
     "outputPrepend",
     "outputPrepend",
     "outputPrepend",
     "outputPrepend",
     "outputPrepend",
     "outputPrepend",
     "outputPrepend",
     "outputPrepend",
     "outputPrepend",
     "outputPrepend",
     "outputPrepend",
     "outputPrepend",
     "outputPrepend",
     "outputPrepend",
     "outputPrepend",
     "outputPrepend",
     "outputPrepend",
     "outputPrepend",
     "outputPrepend",
     "outputPrepend",
     "outputPrepend",
     "outputPrepend",
     "outputPrepend",
     "outputPrepend",
     "outputPrepend",
     "outputPrepend",
     "outputPrepend",
     "outputPrepend",
     "outputPrepend",
     "outputPrepend",
     "outputPrepend",
     "outputPrepend",
     "outputPrepend",
     "outputPrepend",
     "outputPrepend",
     "outputPrepend",
     "outputPrepend",
     "outputPrepend",
     "outputPrepend",
     "outputPrepend"
    ]
   },
   "outputs": [
    {
     "output_type": "stream",
     "name": "stdout",
     "text": "44444444444445)\n('french fries', 'ground beef', 'nan', 'pancakes')  =>  ((), 5.1976744186046515)\n('eggs', 'ground beef', 'pancakes', 'spaghetti')  =>  (('nan',), 9.875)\n('chocolate', 'eggs', 'ground beef', 'pancakes', 'spaghetti')  =>  (('nan',), 10.2)\n('chocolate', 'ground beef', 'nan', 'pancakes')  =>  ((), 5.010204081632653)\n('eggs', 'ground beef', 'nan', 'pancakes')  =>  ((), 5.216931216931217)\n('chocolate', 'eggs', 'ground beef', 'nan', 'pancakes')  =>  ((), 4.821917808219178)\n('eggs', 'ground beef', 'mineral water', 'pancakes')  =>  (('nan',), 11.125)\n('chocolate', 'ground beef', 'mineral water', 'pancakes')  =>  (('nan',), 10.375)\n('chocolate', 'ground beef', 'milk', 'mineral water', 'pancakes')  =>  (('nan',), 9.0)\n('ground beef', 'milk', 'nan', 'pancakes')  =>  ((), 4.865384615384615)\n('chocolate', 'ground beef', 'milk', 'nan', 'pancakes')  =>  ((), 4.2926829268292686)\n('chocolate', 'ground beef', 'milk', 'pancakes', 'spaghetti')  =>  (('nan',), 9.2)\n('ground beef', 'milk', 'nan', 'pancakes', 'spaghetti')  =>  ((), 4.481927710843373)\n('chocolate', 'ground beef', 'mineral water', 'pancakes', 'spaghetti')  =>  (('nan',), 9.4)\n('chocolate', 'ground beef', 'nan', 'spaghetti')  =>  ((), 5.159362549800797)\n('ground beef', 'nan', 'pancakes', 'spaghetti')  =>  ((), 4.882716049382716)\n('chocolate', 'ground beef', 'nan', 'pancakes', 'spaghetti')  =>  ((), 4.586956521739131)\n('chocolate', 'nan', 'pancakes')  =>  ((), 5.826576576576577)\n('nan', 'pancakes', 'spaghetti')  =>  ((), 5.472960151802656)\n('green tea', 'milk', 'pancakes', 'spaghetti')  =>  (('nan',), 9.6)\n('green tea', 'milk', 'mineral water', 'pancakes')  =>  (('nan',), 10.833333333333334)\n('chocolate', 'green tea', 'milk', 'pancakes')  =>  (('nan',), 10.142857142857142)\n('green tea', 'milk', 'nan', 'pancakes')  =>  ((), 5.3076923076923075)\n('eggs', 'french fries', 'green tea', 'pancakes')  =>  (('nan',), 9.8)\n('eggs', 'green tea', 'mineral water', 'pancakes')  =>  (('nan',), 11.0)\n('chocolate', 'eggs', 'green tea', 'pancakes')  =>  (('nan',), 9.7)\n('eggs', 'green tea', 'pancakes', 'spaghetti')  =>  (('nan',), 9.3)\n('eggs', 'green tea', 'nan', 'pancakes')  =>  ((), 5.00355871886121)\n('green tea', 'mineral water', 'pancakes', 'spaghetti')  =>  (('nan',), 9.785714285714286)\n('chocolate', 'green tea', 'mineral water', 'pancakes', 'spaghetti')  =>  (('nan',), 8.4)\n('chocolate', 'green tea', 'nan', 'pancakes')  =>  ((), 5.136094674556213)\n('green tea', 'nan', 'pancakes', 'spaghetti')  =>  ((), 4.904509283819628)\n('chocolate', 'green tea', 'nan', 'pancakes', 'spaghetti')  =>  ((), 3.8823529411764706)\n('chocolate', 'french fries', 'green tea', 'pancakes')  =>  (('nan',), 12.0)\n('french fries', 'green tea', 'pancakes', 'spaghetti')  =>  (('nan',), 10.2)\n('french fries', 'green tea', 'mineral water', 'pancakes')  =>  (('nan',), 10.818181818181818)\n('french fries', 'nan', 'pancakes')  =>  ((), 6.145667198298777)\n('french fries', 'green tea', 'nan', 'pancakes')  =>  ((), 5.8341463414634145)\n('nan', 'pancakes')  =>  ((), 6.726429675425039)\n('chocolate', 'french fries', 'milk', 'pancakes')  =>  (('nan',), 11.5)\n('eggs', 'french fries', 'milk', 'pancakes')  =>  (('nan',), 9.666666666666666)\n('french fries', 'milk', 'mineral water', 'pancakes', 'spaghetti')  =>  (('nan',), 8.0)\n('french fries', 'milk', 'nan', 'pancakes')  =>  ((), 4.722222222222222)\n('french fries', 'milk', 'nan', 'spaghetti')  =>  ((), 4.985477178423237)\n('french fries', 'nan', 'pancakes', 'spaghetti')  =>  ((), 5.094594594594595)\n('french fries', 'milk', 'nan', 'pancakes', 'spaghetti')  =>  ((), 4.409090909090909)\n('chocolate', 'eggs', 'milk', 'mineral water', 'pancakes')  =>  (('nan',), 11.0)\n('eggs', 'milk', 'nan', 'pancakes')  =>  ((), 5.651851851851852)\n('chocolate', 'eggs', 'milk', 'nan', 'pancakes')  =>  ((), 5.025862068965517)\n('chocolate', 'eggs', 'milk', 'pancakes', 'spaghetti')  =>  (('nan',), 10.0)\n('eggs', 'milk', 'mineral water', 'pancakes', 'spaghetti')  =>  (('nan',), 9.428571428571429)\n('eggs', 'nan', 'pancakes', 'spaghetti')  =>  ((), 4.998091603053435)\n('eggs', 'milk', 'nan', 'pancakes', 'spaghetti')  =>  ((), 4.801801801801802)\n('chocolate', 'milk', 'mineral water', 'pancakes', 'spaghetti')  =>  (('nan',), 9.0)\n('chocolate', 'milk', 'nan', 'pancakes', 'spaghetti')  =>  ((), 4.441860465116279)\n('chocolate', 'french fries', 'mineral water', 'pancakes', 'spaghetti')  =>  (('nan',), 8.666666666666666)\n('chocolate', 'eggs', 'french fries', 'pancakes', 'spaghetti')  =>  (('nan',), 8.333333333333334)\n('chocolate', 'french fries', 'nan', 'pancakes')  =>  ((), 5.67436974789916)\n('chocolate', 'french fries', 'nan', 'pancakes', 'spaghetti')  =>  ((), 4.704545454545454)\n('chocolate', 'french fries', 'nan')  =>  ((), 6.370127938113657)\n('chocolate', 'eggs', 'mineral water', 'pancakes', 'spaghetti')  =>  (('nan',), 10.125)\n('chocolate', 'mineral water', 'nan', 'pancakes')  =>  (('eggs',), 1.1861360718870346)\n('eggs', 'mineral water', 'nan', 'pancakes')  =>  (('chocolate',), 1.3371924746743848)\n('chocolate', 'eggs', 'mineral water', 'nan', 'pancakes')  =>  ((), 5.104972375690608)\n('eggs', 'french fries', 'mineral water', 'pancakes')  =>  (('nan',), 8.857142857142858)\n('eggs', 'frozen vegetables', 'green tea', 'ground beef')  =>  (('nan',), 9.666666666666666)\n('chocolate', 'green tea', 'ground beef', 'spaghetti')  =>  (('nan',), 9.6)\n('frozen vegetables', 'green tea', 'ground beef', 'spaghetti')  =>  (('nan',), 10.090909090909092)\n('chocolate', 'frozen vegetables', 'green tea', 'ground beef', 'spaghetti')  =>  (('nan',), 9.4)\n('chocolate', 'frozen vegetables', 'green tea', 'nan')  =>  ((), 5.433070866141732)\n('chocolate', 'green tea', 'ground beef', 'nan')  =>  ((), 5.448398576512456)\n('frozen vegetables', 'green tea', 'ground beef', 'nan')  =>  ((), 5.167441860465116)\n('chocolate', 'frozen vegetables', 'green tea', 'ground beef', 'nan')  =>  ((), 5.164383561643835)\n('frozen vegetables', 'green tea', 'ground beef', 'milk')  =>  (('nan',), 9.857142857142858)\n('frozen vegetables', 'green tea', 'ground beef', 'mineral water')  =>  (('nan',), 10.25)\n('chocolate', 'french fries', 'frozen vegetables', 'green tea')  =>  (('nan',), 9.0)\n('chocolate', 'eggs', 'frozen vegetables', 'green tea')  =>  (('nan',), 10.0)\n('frozen vegetables', 'green tea', 'milk', 'mineral water')  =>  (('nan',), 9.4)\n('chocolate', 'frozen vegetables', 'green tea', 'milk', 'mineral water')  =>  (('nan',), 9.0)\n('frozen vegetables', 'green tea', 'milk', 'spaghetti')  =>  (('nan',), 8.375)\n('chocolate', 'frozen vegetables', 'green tea', 'milk', 'spaghetti')  =>  (('nan',), 6.8)\n('frozen vegetables', 'green tea', 'milk', 'nan')  =>  ((), 5.5353159851301115)\n('chocolate', 'frozen vegetables', 'green tea', 'milk', 'nan')  =>  ((), 4.173913043478261)\n('chocolate', 'frozen vegetables', 'green tea', 'mineral water', 'spaghetti')  =>  (('nan',), 8.2)\n('chocolate', 'green tea', 'mineral water', 'nan')  =>  ((), 5.431506849315069)\n('frozen vegetables', 'green tea', 'mineral water', 'nan')  =>  (('chocolate',), 1.266490765171504)\n('chocolate', 'frozen vegetables', 'green tea', 'mineral water', 'nan')  =>  ((), 4.8)\n('french fries', 'frozen vegetables', 'green tea', 'milk')  =>  (('nan',), 10.875)\n('eggs', 'frozen vegetables', 'green tea', 'milk')  =>  (('nan',), 11.444444444444445)\n('eggs', 'french fries', 'frozen vegetables', 'green tea')  =>  (('nan',), 11.666666666666666)\n('eggs', 'frozen vegetables', 'green tea', 'spaghetti')  =>  (('nan',), 9.333333333333334)\n('eggs', 'frozen vegetables', 'green tea', 'mineral water')  =>  (('nan',), 10.333333333333334)\n('eggs', 'frozen vegetables', 'green tea', 'nan')  =>  ((), 5.631399317406143)\n('french fries', 'frozen vegetables', 'green tea', 'mineral water')  =>  (('nan',), 9.5)\n('french fries', 'frozen vegetables', 'green tea', 'spaghetti')  =>  (('nan',), 8.88888888888889)\n('french fries', 'frozen vegetables', 'green tea', 'nan')  =>  ((), 5.477203647416413)\n('frozen vegetables', 'green tea', 'nan', 'spaghetti')  =>  ((), 5.30791788856305)\n('chocolate', 'french fries', 'frozen vegetables', 'ground beef')  =>  (('nan',), 11.4)\n('french fries', 'frozen vegetables', 'ground beef', 'milk')  =>  (('nan',), 9.333333333333334)\n('french fries', 'frozen vegetables', 'ground beef', 'mineral water')  =>  (('nan',), 9.833333333333334)\n('french fries', 'frozen vegetables', 'ground beef', 'spaghetti')  =>  (('nan',), 9.818181818181818)\n('eggs', 'french fries', 'frozen vegetables', 'ground beef', 'spaghetti')  =>  (('nan',), 9.2)\n('french fries', 'frozen vegetables', 'ground beef', 'nan')  =>  ((), 4.893401015228426)\n('eggs', 'french fries', 'frozen vegetables', 'ground beef', 'nan')  =>  ((), 4.28125)\n('chocolate', 'eggs', 'frozen vegetables', 'ground beef', 'mineral water')  =>  (('nan',), 10.636363636363637)\n('chocolate', 'eggs', 'ground beef', 'milk', 'mineral water')  =>  (('nan',), 9.875)\n('chocolate', 'frozen vegetables', 'ground beef', 'milk', 'mineral water')  =>  (('nan',), 10.133333333333333)\n('eggs', 'frozen vegetables', 'ground beef', 'milk', 'mineral water')  =>  (('nan',), 9.181818181818182)\n('chocolate', 'eggs', 'frozen vegetables', 'ground beef', 'milk', 'mineral water')  =>  (('nan',), 9.666666666666666)\n('chocolate', 'eggs', 'frozen vegetables', 'ground beef', 'milk', 'nan')  =>  ((), 4.5)\n('chocolate', 'eggs', 'frozen vegetables', 'ground beef', 'nan')  =>  ((), 4.859259259259259)\n('chocolate', 'eggs', 'ground beef', 'milk', 'nan')  =>  ((), 4.95945945945946)\n('chocolate', 'frozen vegetables', 'ground beef', 'milk', 'nan')  =>  ((), 4.593908629441624)\n('eggs', 'frozen vegetables', 'ground beef', 'milk', 'nan')  =>  ((), 4.546052631578948)\n('chocolate', 'eggs', 'frozen vegetables', 'mineral water', 'spaghetti')  =>  (('nan',), 9.285714285714286)\n('chocolate', 'eggs', 'ground beef', 'mineral water', 'spaghetti')  =>  (('nan',), 10.153846153846153)\n('eggs', 'frozen vegetables', 'ground beef', 'mineral water', 'spaghetti')  =>  (('nan',), 8.875)\n('chocolate', 'eggs', 'frozen vegetables', 'ground beef', 'mineral water', 'spaghetti')  =>  (('nan',), 9.4)\n('chocolate', 'eggs', 'frozen vegetables', 'nan', 'spaghetti')  =>  ((), 4.5546875)\n('chocolate', 'eggs', 'ground beef', 'nan', 'spaghetti')  =>  ((), 4.895397489539749)\n('eggs', 'frozen vegetables', 'ground beef', 'nan', 'spaghetti')  =>  ((), 4.700564971751413)\n('chocolate', 'eggs', 'frozen vegetables', 'ground beef', 'nan', 'spaghetti')  =>  ((), 4.292307692307692)\n('eggs', 'frozen vegetables', 'ground beef', 'milk', 'spaghetti')  =>  (('nan',), 9.222222222222221)\n('eggs', 'ground beef', 'nan', 'spaghetti')  =>  ((), 5.4034620505992015)\n('chocolate', 'ground beef', 'nan')  =>  ((), 5.887363937529579)\n('chocolate', 'ground beef', 'milk', 'mineral water', 'spaghetti')  =>  (('nan',), 9.0)\n('chocolate', 'frozen vegetables', 'ground beef', 'milk', 'mineral water', 'spaghetti')  =>  (('nan',), 9.125)\n('chocolate', 'ground beef', 'milk', 'mineral water', 'nan', 'spaghetti')  =>  (('frozen vegetables',), 0.9012345679012346)\n('chocolate', 'ground beef', 'milk', 'nan', 'spaghetti')  =>  ((), 4.435406698564593)\n('frozen vegetables', 'ground beef', 'milk', 'nan', 'spaghetti')  =>  ((), 4.196078431372549)\n('chocolate', 'frozen vegetables', 'ground beef', 'milk', 'nan', 'spaghetti')  =>  ((), 4.138888888888889)\n('ground beef', 'nan', 'spaghetti')  =>  ((), 5.89751552795031)\n('chocolate', 'french fries', 'frozen vegetables', 'milk')  =>  (('nan',), 10.5625)\n('chocolate', 'eggs', 'french fries', 'frozen vegetables', 'milk')  =>  (('nan',), 10.0)\n('chocolate', 'french fries', 'frozen vegetables', 'nan')  =>  ((), 5.484143763213531)\n('eggs', 'french fries', 'frozen vegetables', 'nan')  =>  ((), 5.253012048192771)\n('chocolate', 'eggs', 'french fries', 'frozen vegetables', 'nan')  =>  ((), 4.922330097087379)\n('eggs', 'french fries', 'frozen vegetables', 'milk', 'spaghetti')  =>  (('nan',), 7.714285714285714)\n('eggs', 'french fries', 'nan', 'spaghetti')  =>  ((), 5.132492113564669)\n('french fries', 'frozen vegetables', 'nan', 'spaghetti')  =>  ((), 4.899497487437186)\n('eggs', 'french fries', 'frozen vegetables', 'nan', 'spaghetti')  =>  ((), 4.433333333333334)\n('eggs', 'french fries', 'frozen vegetables', 'mineral water', 'spaghetti')  =>  (('nan',), 8.333333333333334)\n('eggs', 'french fries', 'frozen vegetables', 'milk', 'mineral water')  =>  (('nan',), 7.714285714285714)\n('french fries', 'frozen vegetables', 'mineral water', 'nan')  =>  (('chocolate',), 1.4134419551934827)\n('eggs', 'french fries', 'frozen vegetables', 'mineral water', 'nan')  =>  ((), 4.801587301587301)\n('chocolate', 'french fries', 'frozen vegetables', 'spaghetti')  =>  (('nan',), 8.5)\n('french fries', 'frozen vegetables', 'milk', 'mineral water', 'spaghetti')  =>  (('nan',), 7.0)\n('french fries', 'frozen vegetables', 'milk', 'nan', 'spaghetti')  =>  ((), 4.055555555555555)\n('chocolate', 'french fries', 'frozen vegetables', 'milk', 'mineral water')  =>  (('nan',), 9.142857142857142)\n('chocolate', 'frozen vegetables', 'mineral water', 'nan')  =>  (('french fries',), 0.8599752168525403)\n('chocolate', 'french fries', 'frozen vegetables', 'mineral water', 'nan')  =>  ((), 5.028985507246377)\n('french fries', 'frozen vegetables', 'milk', 'nan')  =>  ((), 5.391949152542373)\n('chocolate', 'eggs', 'nan')  =>  ((), 6.164301482182277)\n('chocolate', 'eggs', 'frozen vegetables', 'milk', 'spaghetti')  =>  (('nan',), 9.2)\n('eggs', 'frozen vegetables', 'milk', 'nan', 'spaghetti')  =>  ((), 4.2011494252873565)\n('chocolate', 'milk', 'nan', 'spaghetti')  =>  ((), 5.195150115473441)\n('chocolate', 'nan', 'spaghetti')  =>  ((), 5.863791146424518)\n('chocolate', 'milk', 'nan')  =>  ((), 5.953924914675768)\n('milk', 'nan')  =>  ((), 6.691899674168371)\n('eggs', 'french fries', 'green tea', 'ground beef')  =>  (('nan',), 10.6)\n('french fries', 'green tea', 'ground beef', 'spaghetti')  =>  (('nan',), 10.555555555555555)\n('french fries', 'green tea', 'mineral water', 'spaghetti')  =>  (('nan',), 9.818181818181818)\n('french fries', 'green tea', 'ground beef', 'mineral water', 'spaghetti')  =>  (('nan',), 10.2)\n('french fries', 'green tea', 'ground beef', 'nan')  =>  ((), 5.089473684210526)\n('french fries', 'ground beef', 'mineral water', 'nan')  =>  ((), 5.164733178654292)\n('french fries', 'green tea', 'ground beef', 'mineral water', 'nan')  =>  ((), 4.6835443037974684)\n('chocolate', 'french fries', 'ground beef', 'spaghetti')  =>  (('nan',), 10.0)\n('chocolate', 'eggs', 'french fries', 'ground beef')  =>  (('nan',), 10.11111111111111)\n('chocolate', 'eggs', 'french fries', 'ground beef', 'mineral water')  =>  (('nan',), 11.0)\n('chocolate', 'french fries', 'ground beef', 'nan')  =>  ((), 5.625429553264605)\n('chocolate', 'french fries', 'ground beef', 'mineral water', 'nan')  =>  ((), 5.390476190476191)\n('eggs', 'french fries', 'ground beef', 'mineral water', 'spaghetti')  => (('nan',), 11.0)\n('eggs', 'french fries', 'ground beef', 'mineral water', 'nan')  =>  ((), 4.874015748031496)\n('eggs', 'french fries', 'ground beef', 'milk', 'spaghetti')  =>  (('nan',), 8.6)\n('eggs', 'french fries', 'ground beef', 'milk', 'nan')  =>  ((), 4.096774193548387)\n('french fries', 'ground beef', 'milk', 'mineral water')  =>  (('nan',), 9.461538461538462)\n('french fries', 'ground beef', 'milk', 'mineral water', 'spaghetti')  =>  (('nan',), 7.0)\n('french fries', 'ground beef', 'milk', 'nan', 'spaghetti')  =>  ((), 3.831460674157303)\n('chocolate', 'eggs', 'green tea', 'ground beef')  =>  (('nan',), 9.8)\n('eggs', 'green tea', 'ground beef', 'milk')  =>  (('nan',), 10.333333333333334)\n('eggs', 'green tea', 'ground beef', 'spaghetti')  =>  (('nan',), 10.5)\n('eggs', 'green tea', 'ground beef', 'mineral water')  =>  (('nan',), 11.142857142857142)\n('eggs', 'green tea', 'ground beef', 'nan')  =>  ((), 5.287958115183246)\n('chocolate', 'green tea', 'ground beef', 'milk')  =>  (('nan',), 10.142857142857142)\n('chocolate', 'green tea', 'ground beef', 'mineral water')  =>  (('nan',), 10.444444444444445)\n('green tea', 'ground beef', 'milk', 'mineral water')  =>  (('nan',), 10.375)\n('green tea', 'ground beef', 'milk', 'spaghetti')  =>  (('nan',), 10.307692307692308)\n('green tea', 'ground beef', 'milk', 'nan')  =>  ((), 5.359712230215828)\n('chocolate', 'eggs', 'ground beef', 'milk', 'spaghetti')  =>  (('nan',), 10.571428571428571)\n('eggs', 'ground beef', 'milk', 'mineral water', 'spaghetti')  =>  (('nan',), 9.375)\n('eggs', 'ground beef', 'milk', 'nan', 'spaghetti')  =>  ((), 5.195744680851064)\n('eggs', 'nan', 'spaghetti')  =>  ((), 5.998514998514999)\n('nan', 'spaghetti')  =>  ((), 6.711343099287197)\n('eggs', 'french fries', 'green tea', 'milk')  =>  (('nan',), 11.777777777777779)\n('eggs', 'green tea', 'milk', 'spaghetti')  =>  (('nan',), 9.777777777777779)\n('eggs', 'green tea', 'milk', 'mineral water')  =>  (('nan',), 10.5)\n('chocolate', 'eggs', 'green tea', 'milk')  =>  (('nan',), 11.181818181818182)\n('eggs', 'green tea', 'milk', 'nan')  =>  ((), 5.483383685800605)\n('french fries', 'green tea', 'milk', 'mineral water')  =>  (('nan',), 11.0)\n('chocolate', 'french fries', 'green tea', 'milk')  =>  (('nan',), 10.9)\n('french fries', 'green tea', 'milk', 'nan')  =>  ((), 5.524495677233429)\n('green tea', 'milk', 'mineral water', 'spaghetti')  =>  (('nan',), 9.5)\n('chocolate', 'green tea', 'milk', 'mineral water', 'spaghetti')  =>  (('nan',), 8.833333333333334)\n('green tea', 'milk', 'nan', 'spaghetti')  =>  ((), 5.268867924528302)\n('chocolate', 'green tea', 'milk', 'nan', 'spaghetti')  =>  ((), 4.586466165413534)\n('chocolate', 'green tea', 'nan')  =>  ((), 6.081215970961887)\n('chocolate', 'eggs', 'french fries', 'milk', 'spaghetti')  =>  (('nan',), 9.833333333333334)\n('chocolate', 'french fries', 'milk', 'mineral water', 'spaghetti')  =>  (('nan',), 9.833333333333334)\n('chocolate', 'french fries', 'milk', 'nan', 'spaghetti')  =>  ((), 4.877697841726619)\n('eggs', 'french fries', 'milk', 'mineral water', 'spaghetti')  =>  (('nan',), 7.875)\n('eggs', 'french fries', 'milk', 'nan', 'spaghetti')  =>  ((), 4.5)\n('chocolate', 'eggs', 'french fries', 'milk', 'mineral water')  =>  (('nan',), 9.0)\n('eggs', 'french fries', 'milk', 'mineral water', 'nan')  =>  ((), 4.258741258741258)\n('eggs', 'french fries', 'nan')  =>  (('spaghetti',), 0.8804112554112554)\n('chocolate', 'eggs', 'milk', 'mineral water', 'spaghetti')  =>  (('nan',), 9.333333333333334)\n('chocolate', 'eggs', 'milk', 'nan', 'spaghetti')  =>  ((), 5.113924050632911)\n('eggs', 'nan')  =>  ((), 7.202050663449939)\n('chocolate', 'nan')  =>  ((), 6.986866045030703)\n('chocolate', 'french fries', 'green tea', 'mineral water')  =>  (('nan',), 9.875)\n('chocolate', 'eggs', 'french fries', 'green tea')  =>  (('nan',), 11.166666666666666)\n('chocolate', 'french fries', 'green tea', 'nan')  =>  ((), 5.622222222222222)\n('chocolate', 'eggs', 'green tea', 'mineral water')  =>  (('nan',), 10.11111111111111)\n('chocolate', 'eggs', 'green tea', 'spaghetti')  =>  (('nan',), 10.818181818181818)\n('eggs', 'green tea', 'nan')  =>  ((), 6.4314500197550375)\n('chocolate', 'eggs', 'green tea', 'nan')  =>  ((), 5.801635991820041)\n('green tea', 'mineral water', 'nan')  =>  (('eggs',), 1.3029891304347827)\n('green tea', 'nan')  =>  ((), 7.010184729929058)\n('eggs', 'french fries', 'green tea', 'spaghetti')  =>  (('nan',), 9.909090909090908)\n('eggs', 'green tea', 'mineral water', 'spaghetti')  =>  (('nan',), 11.23076923076923)\n('eggs', 'green tea', 'nan', 'spaghetti')  =>  ((), 5.480412371134021)\n('eggs', 'french fries', 'green tea', 'mineral water')  =>  (('nan',), 11.125)\n('eggs', 'green tea', 'mineral water', 'nan')  =>  ((), 5.975077881619938)\n('french fries', 'green tea', 'nan', 'spaghetti')  =>  ((), 5.5675675675675675)\n('french fries', 'nan')  =>  ((), 7.29288593414647)\n('nan',)  =>  ((), 7.805108696553039)\n('chocolate', 'eggs', 'french fries', 'mineral water', 'spaghetti')  =>  (('nan',), 9.0)\n('chocolate', 'eggs', 'french fries', 'mineral water', 'nan')  =>  ((), 4.627450980392157)\n('french fries', 'mineral water', 'nan')  =>  ((), 6.094387755102041)\n"
    }
   ],
   "source": [
    "for i in rules:\n",
    "    print(i, ' => ', rules[i])"
   ]
  },
  {
   "cell_type": "code",
   "execution_count": 20,
   "metadata": {},
   "outputs": [
    {
     "output_type": "execute_result",
     "data": {
      "text/plain": "und beef'): 5,\n ('burger sauce', 'french fries', 'ground beef', 'nan'): 49,\n ('burger sauce', 'french fries', 'nan'): 85,\n ('burger sauce', 'french fries', 'nan', 'nan'): 455,\n ('burger sauce', 'mineral water', 'shrimp', 'spaghetti'): 5,\n ('burger sauce', 'mineral water', 'nan', 'shrimp', 'spaghetti'): 42,\n ('burger sauce', 'mineral water', 'nan', 'shrimp'): 42,\n ('burger sauce', 'mineral water', 'nan', 'nan', 'shrimp'): 174,\n ('burger sauce', 'shrimp', 'spaghetti'): 6,\n ('burger sauce', 'nan', 'shrimp', 'spaghetti'): 51,\n ('burger sauce', 'nan', 'shrimp'): 75,\n ('burger sauce', 'nan', 'nan', 'shrimp'): 346,\n ('burger sauce', 'chocolate', 'spaghetti'): 5,\n ('burger sauce', 'chocolate', 'nan', 'spaghetti'): 53,\n ('burger sauce', 'chocolate', 'mineral water'): 6,\n ('burger sauce', 'chocolate', 'mineral water', 'nan'): 61,\n ('burger sauce', 'chocolate', 'nan'): 117,\n ('burger sauce', 'chocolate', 'nan', 'nan'): 659,\n ('burger sauce', 'milk', 'mineral water'): 6,\n ('burger sauce', 'milk', 'mineral water', 'nan'): 55,\n ('burger sauce', 'milk', 'spaghetti'): 7,\n ('burger sauce', 'milk', 'nan', 'spaghetti'): 69,\n ('burger sauce', 'milk', 'nan'): 114,\n ('burger sauce', 'milk', 'nan', 'nan'): 579,\n ('burger sauce', 'chicken', 'ground beef'): 5,\n ('burger sauce', 'chicken', 'ground beef', 'nan'): 38,\n ('burger sauce', 'ground beef', 'spaghetti'): 6,\n ('burger sauce', 'ground beef', 'nan', 'spaghetti'): 40,\n ('burger sauce', 'ground beef', 'nan'): 99,\n ('burger sauce', 'ground beef', 'nan', 'nan'): 477,\n ('burger sauce', 'chicken', 'spaghetti'): 6,\n ('burger sauce', 'chicken', 'nan', 'spaghetti'): 51,\n ('burger sauce', 'chicken', 'mineral water'): 8,\n ('burger sauce', 'chicken', 'mineral water', 'nan'): 78,\n ('burger sauce', 'chicken', 'nan'): 109,\n ('burger sauce', 'chicken', 'nan', 'nan'): 471,\n ('burger sauce', 'chicken', 'eggs', 'mineral water'): 5,\n ('burger sauce', 'chicken', 'eggs', 'mineral water', 'nan'): 48,\n ('burger sauce', 'eggs', 'mineral water', 'nan'): 61,\n ('burger sauce', 'eggs', 'mineral water', 'nan', 'nan'): 294,\n ('burger sauce', 'chicken', 'eggs'): 7,\n ('burger sauce', 'chicken', 'eggs', 'nan'): 68,\n ('burger sauce', 'eggs', 'nan'): 141,\n ('burger sauce', 'eggs', 'nan', 'nan'): 811,\n ('burger sauce', 'mineral water', 'spaghetti'): 10,\n ('burger sauce', 'mineral water', 'nan', 'spaghetti'): 90,\n ('burger sauce', 'mineral water', 'nan'): 183,\n ('burger sauce', 'mineral water', 'nan', 'nan'): 927,\n ('burger sauce', 'spaghetti'): 18,\n ('burger sauce', 'nan', 'spaghetti'): 180,\n ('burger sauce', 'nan'): 530,\n ('burger sauce', 'nan', 'nan'): 3226,\n ('milk', 'pickles'): 5,\n ('milk', 'nan', 'pickles'): 58,\n ('frozen smoothie', 'pickles'): 5,\n ('frozen smoothie', 'nan', 'pickles'): 59,\n ('herb & pepper', 'pickles'): 5,\n ('herb & pepper', 'nan', 'pickles'): 57,\n ('eggs', 'pickles'): 5,\n ('eggs', 'nan', 'pickles'): 68,\n ('mineral water', 'pickles'): 6,\n ('mineral water', 'nan', 'pickles'): 61,\n ('pancakes', 'pickles'): 6,\n ('nan', 'pancakes', 'pickles'): 85,\n ('chocolate', 'pickles'): 6,\n ('chocolate', 'nan', 'pickles'): 87,\n ('cake', 'pickles'): 6,\n ('cake', 'nan', 'pickles'): 73,\n ('pickles', 'tomatoes'): 6,\n ('nan', 'pickles', 'tomatoes'): 73,\n ('pickles', 'spaghetti'): 10,\n ('nan', 'pickles', 'spaghetti'): 124,\n ('french fries', 'pickles'): 12,\n ('french fries', 'nan', 'pickles'): 168,\n ('green tea', 'pickles'): 13,\n ('green tea', 'nan', 'pickles'): 178,\n ('nan', 'pickles'): 666,\n ('nan', 'nan', 'pickles'): 4814,\n ('mayonnaise', 'tomato juice'): 5,\n ('mayonnaise', 'nan', 'tomato juice'): 76,\n ('frozen vegetables', 'mayonnaise'): 5,\n ('frozen vegetables', 'mayonnaise', 'nan'): 44,\n ('low fat yogurt', 'mayonnaise'): 5,\n ('low fat yogurt', 'mayonnaise', 'nan'): 67,\n ('mayonnaise', 'tomatoes'): 5,\n ('mayonnaise', 'nan', 'tomatoes'): 51,\n ('mayonnaise', 'mineral water', 'olive oil'): 5,\n ('mayonnaise', 'mineral water', 'nan', 'olive oil'): 51,\n ('mayonnaise', 'nan', 'olive oil'): 52,\n ('mayonnaise', 'nan', 'nan', 'olive oil'): 239,\n ('french fries', 'mayonnaise'): 6,\n ('french fries', 'mayonnaise', 'nan'): 83,\n ('ground beef', 'mayonnaise', 'mineral water'): 5,\n ('ground beef', 'mayonnaise', 'mineral water', 'nan'): 49,\n ('ground beef', 'mayonnaise', 'nan'): 60,\n ('ground beef', 'mayonnaise', 'nan', 'nan'): 279,\n ('burgers', 'mayonnaise', 'mineral water'): 5,\n ('burgers', 'mayonnaise', 'mineral water', 'nan'): 52,\n ('burgers', 'mayonnaise', 'nan'): 73,\n ('burgers', 'mayonnaise', 'nan', 'nan'): 350,\n ('chocolate', 'mayonnaise', 'spaghetti'): 5,\n ('chocolate', 'mayonnaise', 'nan', 'spaghetti'): 43,\n ('chocolate', 'mayonnaise', 'nan'): 67,\n ('chocolate', 'mayonnaise', 'nan', 'nan'): 341,\n ('mayonnaise', 'mineral water', 'soup'): 5,\n ('mayonnaise', 'mineral water', 'nan', 'soup'): 51,\n ('mayonnaise', 'nan', 'soup'): 71,\n ('mayonnaise', 'nan', 'nan', 'soup'): 330,\n ('mayonnaise', 'milk'): 7,\n ('mayonnaise', 'milk', 'nan'): 72,\n ('magazines', 'mayonnaise', 'mineral water'): 5,\n ('magazines', 'mayonnaise', 'mineral water', 'nan'): 57,\n ('magazines', 'mayonnaise', 'nan'): 89,\n ('magazines', 'mayonnaise', 'nan', 'nan'): 547,\n ('eggs', 'mayonnaise', 'mineral water'): 7,\n ('eggs', 'mayonnaise', 'mineral water', 'nan'): 78,\n ('eggs', 'mayonnaise', 'nan'): 104,\n ('eggs', 'mayonnaise', 'nan', 'nan'): 570,\n ('mayonnaise', 'mineral water', 'pancakes'): 7,\n ('mayonnaise', 'mineral water', 'nan', 'pancakes'): 77,\n ('mayonnaise', 'nan', 'pancakes'): 98,\n ('mayonnaise', 'nan', 'nan', 'pancakes'): 515,\n ('green tea', 'mayonnaise', 'mineral water'): 6,\n ('green tea', 'mayonnaise', 'mineral water', 'nan'): 59,\n ('green tea', 'mayonnaise', 'nan'): 110,\n ('green tea', 'mayonnaise', 'nan', 'nan'): 576,\n ('mayonnaise', 'mineral water', 'spaghetti'): 8,\n ('mayonnaise', 'mineral water', 'nan', 'spaghetti'): 84,\n ('mayonnaise', 'nan', 'spaghetti'): 155,\n ('mayonnaise', 'nan', 'nan', 'spaghetti'): 879,\n ('mayonnaise', 'mineral water'): 22,\n ('mayonnaise', 'mineral water', 'nan'): 253,\n ('mayonnaise', 'nan'): 610,\n ('mayonnaise', 'nan', 'nan'): 4090,\n ('chili', 'pepper'): 5,\n ('chili', 'nan', 'pepper'): 65,\n ('chili', 'fresh bread'): 5,\n ('chili', 'fresh bread', 'nan'): 48,\n ('chili', 'oil'): 5,\n ('chili', 'nan', 'oil'): 48,\n ('chili', 'red wine'): 5,\n ('chili', 'nan', 'red wine'): 58,\n ('chili', 'turkey'): 5,\n ('chili', 'nan', 'turkey'): 51,\n ('chili', 'salmon'): 5,\n ('chili', 'nan', 'salmon'): 49,\n ('chili', 'milk'): 6,\n ('chili', 'milk', 'nan'): 73,\n ('chili', 'escalope', 'mineral water'): 6,\n ('chili', 'escalope', 'mineral water', 'nan'): 75,\n ('chili', 'escalope', 'nan'): 80,\n ('chili', 'escalope', 'nan', 'nan'): 461,\n ('chili', 'ground beef', 'olive oil'): 5,\n ('chili', 'ground beef', 'nan', 'olive oil'): 47,\n ('chili', 'nan', 'olive oil'): 62,\n ('chili', 'nan', 'nan', 'olive oil'): 273,\n ('cake', 'chili'): 7,\n ('cake', 'chili', 'nan'): 77,\n ('chili', 'eggs'): 7,\n ('chili', 'eggs', 'nan'): 78,\n ('chili', 'herb & pepper'): 7,\n ('chili', 'herb & pepper', 'nan'): 72,\n ('chicken', 'chili', 'cooking oil'): 5,\n ('chicken', 'chili', 'cooking oil', 'nan'): 42,\n ('chili', 'cooking oil', 'nan'): 64,\n ('chili', 'cooking oil', 'nan', 'nan'): 311,\n ('chili', 'spaghetti', 'tomatoes'): 6,\n ('chili', 'nan', 'spaghetti', 'tomatoes'): 55,\n ('chili', 'nan', 'tomatoes'): 77,\n ('chili', 'nan', 'nan', 'tomatoes'): 350,\n ('chili', 'green tea'): 8,\n ('chili', 'green tea', 'nan'): 92,\n ('chicken', 'chili', 'spaghetti'): 5,\n ('chicken', 'chili', 'nan', 'spaghetti'): 45,\n ('chicken', 'chili', 'nan'): 77,\n ('chicken', 'chili', 'nan', 'nan'): 340,\n ('chili', 'pancakes'): 9,\n ('chili', 'nan', 'pancakes'): 94,\n ('chili', 'french fries'): 9,\n ('chili', 'french fries', 'nan'): 94,\n ('chili', 'shrimp'): 9,\n ('chili', 'nan', 'shrimp'): 91,\n ('chili', 'ground beef', 'mineral water'): 5,\n ('chili', 'ground beef', 'mineral water', 'nan'): 56,\n ('chili', 'ground beef', 'spaghetti'): 7,\n ('chili', 'ground beef', 'nan', 'spaghetti'): 70,\n ('chili', 'ground beef', 'nan'): 102,\n ('chili', 'ground beef', 'nan', 'nan'): 521,\n ('chili', 'chocolate', 'spaghetti'): 6,\n ('chili', 'chocolate', 'nan', 'spaghetti'): 54,\n ('chili', 'chocolate', 'nan'): 147,\n ('chili', 'chocolate', 'nan', 'nan'): 841,\n ('chili', 'mineral water', 'spaghetti'): 9,\n ('chili', 'mineral water', 'nan', 'spaghetti'): 104,\n ('chili', 'mineral water', 'nan'): 186,\n ('chili', 'mineral water', 'nan', 'nan'): 1035,\n ('chili', 'spaghetti'): 18,\n ('chili', 'nan', 'spaghetti'): 200,\n ('chili', 'nan'): 566,\n ('chili', 'nan', 'nan'): 3520,\n ('light mayo', 'sparkling water'): 5,\n ('light mayo', 'nan', 'sparkling water'): 77,\n ('salmon', 'sparkling water'): 5,\n ('nan', 'salmon', 'sparkling water'): 49,\n ('frozen smoothie', 'honey', 'sparkling water'): 5,\n ('frozen smoothie', 'honey', 'nan', 'sparkling water'): 46,\n ('honey', 'nan', 'sparkling water'): 56,\n ('honey', 'nan', 'nan', 'sparkling water'): 249,\n ('cake', 'sparkling water'): 6,\n ('cake', 'nan', 'sparkling water'): 64,\n ('escalope', 'sparkling water'): 6,\n ('escalope', 'nan', 'sparkling water'): 71,\n ('spaghetti', 'sparkling water'): 6,\n ('nan', 'spaghetti', 'sparkling water'): 60,\n ('pancakes', 'sparkling water'): 6,\n ('nan', 'pancakes', 'sparkling water'): 70,\n ('burgers', 'sparkling water'): 7,\n ('burgers', 'nan', 'sparkling water'): 70,\n ('frozen vegetables', 'sparkling water'): 7,\n ('frozen vegetables', 'nan', 'sparkling water'): 93,\n ('eggs', 'sparkling water'): 7,\n ('eggs', 'nan', 'sparkling water'): 86,\n ('chocolate', 'frozen smoothie', 'sparkling water'): 5,\n ('chocolate', 'frozen smoothie', 'nan', 'sparkling water'): 47,\n ('chocolate', 'nan', 'sparkling water'): 74,\n ('chocolate', 'nan', 'nan', 'sparkling water'): 343,\n ('green tea', 'sparkling water'): 9,\n ('green tea', 'nan', 'sparkling water'): 105,\n ('milk', 'mineral water', 'sparkling water'): 5,\n ('milk', 'mineral water', 'nan', 'sparkling water'): 51,\n ('milk', 'nan', 'sparkling water'): 94,\n ('milk', 'nan', 'nan', 'sparkling water'): 509,\n ('ground beef', 'sparkling water'): 9,\n ('ground beef', 'nan', 'sparkling water'): 104,\n ('french fries', 'hot dogs', 'sparkling water'): 5,\n ('french fries', 'hot dogs', 'nan', 'sparkling water'): 54,\n ('french fries', 'nan', 'sparkling water'): 112,\n ('french fries', 'nan', 'nan', 'sparkling water'): 649,\n ('frozen smoothie', 'mineral water', 'sparkling water'): 6,\n ('frozen smoothie', 'mineral water', 'nan', 'sparkling water'): 62,\n ('frozen smoothie', 'nan', 'sparkling water'): 119,\n ('frozen smoothie', 'nan', 'nan', 'sparkling water'): 627,\n ('hot dogs', 'sparkling water'): 12,\n ('hot dogs', 'nan', 'sparkling water'): 147,\n ('mineral water', 'sparkling water'): 13,\n ('mineral water', 'nan', 'sparkling water'): 148,\n ('nan', 'sparkling water'): 630,\n ('nan', 'nan', 'sparkling water'): 4192,\n ('chicken', 'soda'): 5,\n ('chicken', 'nan', 'soda'): 66,\n ('green tea', 'soda'): 5,\n ('green tea', 'nan', 'soda'): 55,\n ('soda', 'white wine'): 5,\n ('nan', 'soda', 'white wine'): 75,\n ('low fat yogurt', 'soda'): 5,\n ('low fat yogurt', 'nan', 'soda'): 55,\n ('frozen vegetables', 'soda'): 7,\n ('frozen vegetables', 'nan', 'soda'): 89,\n ('chocolate', 'soda'): 7,\n ('chocolate', 'nan', 'soda'): 90,\n ('ground beef', 'soda'): 7,\n ('ground beef', 'nan', 'soda'): 83,\n ('milk', 'mineral water', 'soda'): 5,\n ('milk', 'mineral water', 'nan', 'soda'): 52,\n ('milk', 'nan', 'soda'): 75,\n ('milk', 'nan', 'nan', 'soda'): 374,\n ('eggs', 'mineral water', 'soda'): 5,\n ('eggs', 'mineral water', 'nan', 'soda'): 61,\n ('eggs', 'nan', 'soda'): 106,\n ('eggs', 'nan', 'nan', 'soda'): 673,\n ('soda', 'spaghetti'): 9,\n ('nan', 'soda', 'spaghetti'): 110,\n ('mineral water', 'soda'): 12,\n ('mineral water', 'nan', 'soda'): 147,\n ('nan', 'soda'): 692,\n ('nan', 'nan', 'soda'): 4953,\n ('low fat yogurt', 'pet food'): 5,\n ('low fat yogurt', 'nan', 'pet food'): 53,\n ('pancakes', 'pet food'): 5,\n ('nan', 'pancakes', 'pet food'): 50,\n ('cooking oil', 'pet food'): 5,\n ('cooking oil', 'nan', 'pet food'): 51,\n ('pet food', 'tomatoes'): 5,\n ('nan', 'pet food', 'tomatoes'): 55,\n ('chocolate', 'pet food'): 6,\n ('chocolate', 'nan', 'pet food'): 69,\n ('green tea', 'pet food'): 8,\n ('green tea', 'nan', 'pet food'): 85,\n ('cake', 'mineral water', 'pet food'): 5,\n ('cake', 'mineral water', 'nan', 'pet food'): 56,\n ('cake', 'nan', 'pet food'): 86,\n ('cake', 'nan', 'nan', 'pet food'): 439,\n ('frozen vegetables', 'pet food'): 8,\n ('frozen vegetables', 'nan', 'pet food'): 94,\n ('pet food', 'soup'): 8,\n ('nan', 'pet food', 'soup'): 98,\n ('french fries', 'pet food'): 8,\n ('french fries', 'nan', 'pet food'): 92,\n ('ground beef', 'pet food'): 10,\n ('ground beef', 'nan', 'pet food'): 115,\n ('pet food', 'turkey'): 10,\n ('nan', 'pet food', 'turkey'): 115,\n ('eggs', 'pet food', 'spaghetti'): 5,\n ('eggs', 'nan', 'pet food', 'spaghetti'): 61,\n ('mineral water', 'pet food', 'spaghetti'): 5,\n ('mineral water', 'nan', 'pet food', 'spaghetti'): 60,\n ('nan', 'pet food', 'spaghetti'): 135,\n ('nan', 'nan', 'pet food', 'spaghetti'): 783,\n ('mineral water', 'pet food', 'red wine'): 5,\n ('mineral water', 'nan', 'pet food', 'red wine'): 61,\n ('nan', 'pet food', 'red wine'): 151,\n ('nan', 'nan', 'pet food', 'red wine'): 919,\n ('eggs', 'mineral water', 'pet food'): 7,\n ('eggs', 'mineral water', 'nan', 'pet food'): 85,\n ('eggs', 'nan', 'pet food'): 169,\n ('eggs', 'nan', 'nan', 'pet food'): 1090,\n ('mineral water', 'pet food'): 15,\n ('mineral water', 'nan', 'pet food'): 176,\n ('nan', 'pet food'): 670,\n ('nan', 'nan', 'pet food'): 4513,\n ('cooking oil', 'gluten free bar'): 5,\n ('cooking oil', 'gluten free bar', 'nan'): 58,\n ('gluten free bar', 'milk'): 5,\n ('gluten free bar', 'milk', 'nan'): 50,\n ('fresh tuna', 'gluten free bar'): 5,\n ('fresh tuna', 'gluten free bar', 'nan'): 53,\n ('cottage cheese', 'gluten free bar'): 5,\n ('cottage cheese', 'gluten free bar', 'nan'): 55,\n ('burgers', 'gluten free bar'): 5,\n ('burgers', 'gluten free bar', 'nan'): 42,\n ('gluten free bar', 'muffins'): 5,\n ('gluten free bar', 'muffins', 'nan'): 65,\n ('escalope', 'gluten free bar'): 5,\n ('escalope', 'gluten free bar', 'nan'): 61,\n ('fresh bread', 'gluten free bar'): 5,\n ('fresh bread', 'gluten free bar', 'nan'): 58,\n ('chocolate', 'gluten free bar'): 6,\n ('chocolate', 'gluten free bar', 'nan'): 64,\n ('gluten free bar', 'salmon'): 7,\n ('gluten free bar', 'nan', 'salmon'): 69,\n ('frozen vegetables', 'gluten free bar'): 7,\n ('frozen vegetables', 'gluten free bar', 'nan'): 86,\n ('gluten free bar', 'low fat yogurt'): 7,\n ('gluten free bar', 'low fat yogurt', 'nan'): 94,\n ('gluten free bar', 'light mayo'): 8,\n ('gluten free bar', 'light mayo', 'nan'): 101,\n ('gluten free bar', 'green tea'): 8,\n ('gluten free bar', 'green tea', 'nan'): 102,\n ('gluten free bar', 'grated cheese'): 8,\n ('gluten free bar', 'grated cheese', 'nan'): 89,\n ('gluten free bar', 'pancakes', 'spaghetti'): 6,\n ('gluten free bar', 'nan', 'pancakes', 'spaghetti'): 61,\n ('gluten free bar', 'nan', 'spaghetti'): 108,\n ('gluten free bar', 'nan', 'nan', 'spaghetti'): 592,\n ('eggs', 'french fries', 'gluten free bar'): 5,\n ('eggs', 'french fries', 'gluten free bar', 'nan'): 51,\n ('french fries', 'gluten free bar', 'nan'): 130,\n ('french fries', 'gluten free bar', 'nan', 'nan'): 850,\n ('eggs', 'gluten free bar', 'pancakes'): 6,\n ('eggs', 'gluten free bar', 'nan', 'pancakes'): 61,\n ('eggs', 'gluten free bar', 'nan'): 129,\n ('eggs', 'gluten free bar', 'nan', 'nan'): 674,\n ('gluten free bar', 'pancakes'): 16,\n ('gluten free bar', 'nan', 'pancakes'): 196,\n ('gluten free bar', 'mineral water'): 16,\n ('gluten free bar', 'mineral water', 'nan'): 181,\n ('gluten free bar', 'nan'): 720,\n ('gluten free bar', 'nan', 'nan'): 4943,\n ('spinach', 'vegetables mix'): 5,\n ('nan', 'spinach', 'vegetables mix'): 39,\n ('energy drink', 'spinach'): 5,\n ('energy drink', 'nan', 'spinach'): 30,\n ('spinach', 'tomato juice'): 5,\n ('nan', 'spinach', 'tomato juice'): 38,\n ('olive oil', 'spinach'): 5,\n ('nan', 'olive oil', 'spinach'): 38,\n ('shrimp', 'spinach'): 5,\n ('nan', 'shrimp', 'spinach'): 49,\n ('oil', 'spinach'): 5,\n ('nan', 'oil', 'spinach'): 52,\n ('herb & pepper', 'spinach'): 5,\n ('herb & pepper', 'nan', 'spinach'): 51,\n ('cooking oil', 'spinach'): 5,\n ('cooking oil', 'nan', 'spinach'): 63,\n ('spinach', 'tomatoes'): 5,\n ('nan', 'spinach', 'tomatoes'): 48,\n ('fresh tuna', 'spinach'): 6,\n ('fresh tuna', 'nan', 'spinach'): 50,\n ('cake', 'spinach'): 6,\n ('cake', 'nan', 'spinach'): 63,\n ('light mayo', 'spinach'): 6,\n ('light mayo', 'nan', 'spinach'): 69,\n ('salmon', 'spinach'): 7,\n ('nan', 'salmon', 'spinach'): 55,\n ('honey', 'spinach'): 7,\n ('honey', 'nan', 'spinach'): 61,\n ('spinach', 'turkey'): 7,\n ('nan', 'spinach', 'turkey'): 99,\n ('grated cheese', 'spinach'): 7,\n ('grated cheese', 'nan', 'spinach'): 89,\n ('chocolate', 'spinach'): 7,\n ('chocolate', 'nan', 'spinach'): 92,\n ('frozen smoothie', 'mineral water', 'spinach'): 8,\n ('frozen smoothie', 'mineral water', 'nan', 'spinach'): 63,\n ('frozen smoothie', 'nan', 'spinach'): 73,\n ('frozen smoothie', 'nan', 'nan', 'spinach'): 356,\n ('green tea', 'spinach'): 10,\n ('green tea', 'nan', 'spinach'): 100,\n ('eggs', 'spaghetti', 'spinach'): 5,\n ('eggs', 'nan', 'spaghetti', 'spinach'): 44,\n ('eggs', 'mineral water', 'spinach'): 5,\n ('eggs', 'mineral water', 'nan', 'spinach'): 48,\n ('eggs', 'nan', 'spinach'): 123,\n ('eggs', 'nan', 'nan', 'spinach'): 713,\n ('milk', 'mineral water', 'spinach'): 8,\n ('milk', 'mineral water', 'nan', 'spinach'): 90,\n ('milk', 'nan', 'spinach'): 138,\n ('milk', 'nan', 'nan', 'spinach'): 793,\n ('mineral water', 'spaghetti', 'spinach'): 10,\n ('mineral water', 'nan', 'spaghetti', 'spinach'): 105,\n ('nan', 'spaghetti', 'spinach'): 152,\n ('nan', 'nan', 'spaghetti', 'spinach'): 826,\n ('french fries', 'mineral water', 'spinach'): 5,\n ('french fries', 'mineral water', 'nan', 'spinach'): 41,\n ('french fries', 'nan', 'spinach'): 186,\n ('french fries', 'nan', 'nan', 'spinach'): 1156,\n ('mineral water', 'spinach'): 20,\n ('mineral water', 'nan', 'spinach'): 213,\n ('nan', 'spinach'): 692,\n ('nan', 'nan', 'spinach'): 4650,\n ('escalope', 'shallot', 'white wine'): 5,\n ('escalope', 'nan', 'shallot', 'white wine'): 78,\n ('nan', 'shallot', 'white wine'): 78,\n ('nan', 'nan', 'shallot', 'white wine'): 574,\n ('ground beef', 'shallot'): 5,\n ('ground beef', 'nan', 'shallot'): 55,\n ('shallot', 'tomato juice'): 6,\n ('nan', 'shallot', 'tomato juice'): 82,\n ('frozen vegetables', 'shallot'): 6,\n ('frozen vegetables', 'nan', 'shallot'): 66,\n ('milk', 'shallot'): 6,\n ('milk', 'nan', 'shallot'): 72,\n ('burgers', 'shallot'): 7,\n ('burgers', 'nan', 'shallot'): 108,\n ('salmon', 'shallot'): 7,\n ('nan', 'salmon', 'shallot'): 80,\n ('shallot', 'spaghetti'): 9,\n ('nan', 'shallot', 'spaghetti'): 110,\n ('mineral water', 'shallot'): 9,\n ('mineral water', 'nan', 'shallot'): 115,\n ('chocolate', 'french fries', 'shallot'): 5,\n ('chocolate', 'french fries', 'nan', 'shallot'): 70,\n ('chocolate', 'nan', 'shallot'): 144,\n ('chocolate', 'nan', 'nan', 'shallot'): 989,\n ('green tea', 'low fat yogurt', 'shallot'): 5,\n ('green tea', 'low fat yogurt', 'nan', 'shallot'): 58,\n ('cookies', 'french fries', 'low fat yogurt', 'shallot'): 7,\n ('cookies', 'french fries', 'low fat yogurt', 'nan', 'shallot'): 93,\n ('french fries', 'low fat yogurt', 'nan', 'shallot'): 108,\n ('french fries', 'low fat yogurt', 'nan', 'nan', 'shallot'): 684,\n ('cookies', 'low fat yogurt', 'shallot'): 9,\n ('cookies', 'low fat yogurt', 'nan', 'shallot'): 113,\n ('low fat yogurt', 'nan', 'shallot'): 170,\n ('low fat yogurt', 'nan', 'nan', 'shallot'): 1048,\n ('escalope', 'shallot'): 14,\n ('escalope', 'nan', 'shallot'): 218,\n ('cookies', 'french fries', 'shallot'): 9,\n ('cookies', 'french fries', 'nan', 'shallot'): 122,\n ('cookies', 'green tea', 'shallot'): 9,\n ('cookies', 'green tea', 'nan', 'shallot'): 108,\n ('cookies', 'nan', 'shallot'): 195,\n ('cookies', 'nan', 'nan', 'shallot'): 1201,\n ('french fries', 'green tea', 'shallot'): 9,\n ('french fries', 'green tea', 'nan', 'shallot'): 120,\n ('green tea', 'nan', 'shallot'): 222,\n ('green tea', 'nan', 'nan', 'shallot'): 1388,\n ...}"
     },
     "metadata": {},
     "execution_count": 20
    }
   ],
   "source": [
    "pattern"
   ]
  },
  {
   "cell_type": "code",
   "execution_count": null,
   "metadata": {},
   "outputs": [],
   "source": []
  }
 ],
 "metadata": {
  "kernelspec": {
   "display_name": "Python 3",
   "language": "python",
   "name": "python3"
  },
  "language_info": {
   "codemirror_mode": {
    "name": "ipython",
    "version": 3
   },
   "file_extension": ".py",
   "mimetype": "text/x-python",
   "name": "python",
   "nbconvert_exporter": "python",
   "pygments_lexer": "ipython3",
   "version": "3.7.6-final"
  }
 },
 "nbformat": 4,
 "nbformat_minor": 2
}