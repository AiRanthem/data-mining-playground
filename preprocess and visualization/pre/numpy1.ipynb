{
 "cells": [
  {
   "cell_type": "markdown",
   "metadata": {},
   "source": [
    "### ndarray.ndim\n",
    "the number of axes (dimensions) of the array.\n",
    "\n",
    "### ndarray.shape\n",
    "the dimensions of the array. This is a tuple of integers indicating the size of the array in each dimension. For a matrix with n rows and m columns, shape will be (n,m). The length of the shape tuple is therefore the number of axes, ndim.\n",
    "\n",
    "### ndarray.size\n",
    "the total number of elements of the array. This is equal to the product of the elements of shape.\n",
    "\n",
    "### ndarray.dtype\n",
    "an object describing the type of the elements in the array. One can create or specify dtype’s using standard Python types. Additionally NumPy provides types of its own. numpy.int32, numpy.int16, and numpy.float64 are some examples.\n",
    "\n",
    "### ndarray.itemsize\n",
    "the size in bytes of each element of the array. For example, an array of elements of type float64 has itemsize 8 (=64/8), while one of type complex32 has itemsize 4 (=32/8). It is equivalent to ndarray.dtype.itemsize.\n",
    "\n",
    "### ndarray.data\n",
    "the buffer containing the actual elements of the array. Normally, we won’t need to use this attribute because we will access the elements in an array using indexing facilities."
   ]
  },
  {
   "cell_type": "code",
   "execution_count": 1,
   "metadata": {},
   "outputs": [
    {
     "data": {
      "text/plain": "array([[ 0,  1,  2,  3,  4],\n       [ 5,  6,  7,  8,  9],\n       [10, 11, 12, 13, 14]])"
     },
     "execution_count": 1,
     "metadata": {},
     "output_type": "execute_result"
    }
   ],
   "source": [
    "import numpy as np\n",
    "a = np.arange(15).reshape(3, 5)\n",
    "a\n"
   ]
  },
  {
   "cell_type": "code",
   "execution_count": 2,
   "metadata": {},
   "outputs": [
    {
     "data": {
      "text/plain": "(3, 5)"
     },
     "execution_count": 2,
     "metadata": {},
     "output_type": "execute_result"
    }
   ],
   "source": [
    "a.shape"
   ]
  },
  {
   "cell_type": "code",
   "execution_count": 3,
   "metadata": {},
   "outputs": [
    {
     "data": {
      "text/plain": "2"
     },
     "execution_count": 3,
     "metadata": {},
     "output_type": "execute_result"
    }
   ],
   "source": [
    "a.ndim"
   ]
  },
  {
   "cell_type": "code",
   "execution_count": 4,
   "metadata": {},
   "outputs": [
    {
     "data": {
      "text/plain": "15"
     },
     "execution_count": 4,
     "metadata": {},
     "output_type": "execute_result"
    }
   ],
   "source": [
    "a.size"
   ]
  },
  {
   "cell_type": "code",
   "execution_count": 8,
   "metadata": {},
   "outputs": [
    {
     "data": {
      "text/plain": "'int32'"
     },
     "execution_count": 8,
     "metadata": {},
     "output_type": "execute_result"
    }
   ],
   "source": [
    "a.dtype.name"
   ]
  },
  {
   "cell_type": "code",
   "execution_count": 9,
   "metadata": {},
   "outputs": [
    {
     "data": {
      "text/plain": "numpy.ndarray"
     },
     "execution_count": 9,
     "metadata": {},
     "output_type": "execute_result"
    }
   ],
   "source": [
    "type(a)"
   ]
  },
  {
   "cell_type": "code",
   "execution_count": 10,
   "metadata": {},
   "outputs": [
    {
     "data": {
      "text/plain": "array([[1.5, 2. , 3. ],\n       [4. , 5. , 6. ]])"
     },
     "execution_count": 10,
     "metadata": {},
     "output_type": "execute_result"
    }
   ],
   "source": [
    "b = np.array([(1.5,2,3), (4,5,6)]) #注意圆括号，方括号\n",
    "b"
   ]
  },
  {
   "cell_type": "code",
   "execution_count": 11,
   "metadata": {},
   "outputs": [],
   "source": [
    "b.shape\n",
    "# 除了最外层用圆括号，内存用方括号还是圆括号是随意的,只要匹配的对\n",
    "# c,d (2*3*4)\n",
    "c = np.array([\n",
    "    [ [1, 1, 1, 1],       [1, 1, 1, 1],        [1, 1, 1, 1] ],\n",
    "    [ [1, 1, 1, 1],       [1, 1, 1, 1],        [1, 1, 1, 1] ] \n",
    "] )\n",
    "\n",
    "d = np.array([\n",
    "    [ (1, 1, 1, 1),        (1, 1, 1, 1),        (1, 1, 1, 1) ],\n",
    "\n",
    "       [(1, 1, 1, 1),        (1, 1, 1, 1),        (1, 1, 1, 1) ] \n",
    "       \n",
    "] )"
   ]
  },
  {
   "cell_type": "code",
   "execution_count": 12,
   "metadata": {},
   "outputs": [
    {
     "data": {
      "text/plain": "3"
     },
     "execution_count": 12,
     "metadata": {},
     "output_type": "execute_result"
    }
   ],
   "source": [
    "d.ndim"
   ]
  },
  {
   "cell_type": "code",
   "execution_count": 13,
   "metadata": {},
   "outputs": [
    {
     "data": {
      "text/plain": "array([0. , 0.2, 0.4, 0.6, 0.8, 1. , 1.2, 1.4, 1.6, 1.8])"
     },
     "execution_count": 13,
     "metadata": {},
     "output_type": "execute_result"
    }
   ],
   "source": [
    " np.arange( 0, 2, 0.2 )              # it accepts float arguments"
   ]
  },
  {
   "cell_type": "code",
   "execution_count": 14,
   "metadata": {},
   "outputs": [
    {
     "data": {
      "text/plain": "array([2.  , 2.25, 2.5 , 2.75, 3.  ])"
     },
     "execution_count": 14,
     "metadata": {},
     "output_type": "execute_result"
    }
   ],
   "source": [
    "np.linspace(2.0, 3.0, num=5)"
   ]
  },
  {
   "cell_type": "code",
   "execution_count": 15,
   "metadata": {},
   "outputs": [],
   "source": [
    "x = np.linspace( 0, 2*np.pi, 100 )\n",
    "f = np.sin(x)"
   ]
  },
  {
   "cell_type": "code",
   "execution_count": 16,
   "metadata": {},
   "outputs": [
    {
     "data": {
      "text/plain": "array([ 0.00000000e+00,  6.34239197e-02,  1.26592454e-01,  1.89251244e-01,\n        2.51147987e-01,  3.12033446e-01,  3.71662456e-01,  4.29794912e-01,\n        4.86196736e-01,  5.40640817e-01,  5.92907929e-01,  6.42787610e-01,\n        6.90079011e-01,  7.34591709e-01,  7.76146464e-01,  8.14575952e-01,\n        8.49725430e-01,  8.81453363e-01,  9.09631995e-01,  9.34147860e-01,\n        9.54902241e-01,  9.71811568e-01,  9.84807753e-01,  9.93838464e-01,\n        9.98867339e-01,  9.99874128e-01,  9.96854776e-01,  9.89821442e-01,\n        9.78802446e-01,  9.63842159e-01,  9.45000819e-01,  9.22354294e-01,\n        8.95993774e-01,  8.66025404e-01,  8.32569855e-01,  7.95761841e-01,\n        7.55749574e-01,  7.12694171e-01,  6.66769001e-01,  6.18158986e-01,\n        5.67059864e-01,  5.13677392e-01,  4.58226522e-01,  4.00930535e-01,\n        3.42020143e-01,  2.81732557e-01,  2.20310533e-01,  1.58001396e-01,\n        9.50560433e-02,  3.17279335e-02, -3.17279335e-02, -9.50560433e-02,\n       -1.58001396e-01, -2.20310533e-01, -2.81732557e-01, -3.42020143e-01,\n       -4.00930535e-01, -4.58226522e-01, -5.13677392e-01, -5.67059864e-01,\n       -6.18158986e-01, -6.66769001e-01, -7.12694171e-01, -7.55749574e-01,\n       -7.95761841e-01, -8.32569855e-01, -8.66025404e-01, -8.95993774e-01,\n       -9.22354294e-01, -9.45000819e-01, -9.63842159e-01, -9.78802446e-01,\n       -9.89821442e-01, -9.96854776e-01, -9.99874128e-01, -9.98867339e-01,\n       -9.93838464e-01, -9.84807753e-01, -9.71811568e-01, -9.54902241e-01,\n       -9.34147860e-01, -9.09631995e-01, -8.81453363e-01, -8.49725430e-01,\n       -8.14575952e-01, -7.76146464e-01, -7.34591709e-01, -6.90079011e-01,\n       -6.42787610e-01, -5.92907929e-01, -5.40640817e-01, -4.86196736e-01,\n       -4.29794912e-01, -3.71662456e-01, -3.12033446e-01, -2.51147987e-01,\n       -1.89251244e-01, -1.26592454e-01, -6.34239197e-02, -2.44929360e-16])"
     },
     "execution_count": 16,
     "metadata": {},
     "output_type": "execute_result"
    }
   ],
   "source": [
    "f"
   ]
  },
  {
   "cell_type": "code",
   "execution_count": 17,
   "metadata": {},
   "outputs": [],
   "source": [
    "a = np.array( [20,30,40,50] )\n",
    "b = np.arange( 4 )\n",
    "c = a-b\n",
    "d=b**2\n",
    "e= 10*np.sin(a)\n",
    "f=a<35  #array([ True, True, False, False])\n"
   ]
  },
  {
   "cell_type": "code",
   "execution_count": 18,
   "metadata": {},
   "outputs": [
    {
     "data": {
      "text/plain": "array([ True,  True, False, False])"
     },
     "execution_count": 18,
     "metadata": {},
     "output_type": "execute_result"
    }
   ],
   "source": [
    "f"
   ]
  },
  {
   "cell_type": "code",
   "execution_count": 22,
   "metadata": {},
   "outputs": [
    {
     "data": {
      "text/plain": "array([0., 1.])"
     },
     "execution_count": 22,
     "metadata": {},
     "output_type": "execute_result"
    }
   ],
   "source": [
    "b = np.arange(1.5)\n",
    "b"
   ]
  },
  {
   "cell_type": "code",
   "execution_count": 24,
   "metadata": {},
   "outputs": [
    {
     "name": "stdout",
     "output_type": "stream",
     "text": "[[2 0]\n [0 4]]\n"
    }
   ],
   "source": [
    "A = np.array( [[1,1],[0,1]] )\n",
    "B = np.array( [[2,0],[3,4]] )\n",
    "C = A * B # 元素相乘\n",
    "D= A @ B #矩阵内积  等同于 np.dot(A,B)\n",
    "#   *=  +=  等都可以用\n",
    "print(C)"
   ]
  },
  {
   "cell_type": "code",
   "execution_count": 25,
   "metadata": {},
   "outputs": [
    {
     "data": {
      "text/plain": "array([[5, 4],\n       [3, 4]])"
     },
     "execution_count": 25,
     "metadata": {},
     "output_type": "execute_result"
    }
   ],
   "source": [
    "D"
   ]
  }
 ],
 "metadata": {
  "kernelspec": {
   "display_name": "Python 3.7.3 64-bit ('base': conda)",
   "language": "python",
   "name": "python37364bitbasecondaaca5070ca1644e5190102fd019577a8c"
  },
  "language_info": {
   "codemirror_mode": {
    "name": "ipython",
    "version": 3
   },
   "file_extension": ".py",
   "mimetype": "text/x-python",
   "name": "python",
   "nbconvert_exporter": "python",
   "pygments_lexer": "ipython3",
   "version": "3.6.10-final"
  }
 },
 "nbformat": 4,
 "nbformat_minor": 2
}